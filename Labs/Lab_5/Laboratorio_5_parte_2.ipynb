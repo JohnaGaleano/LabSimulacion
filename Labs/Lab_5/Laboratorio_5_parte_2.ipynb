{
 "cells": [
  {
   "cell_type": "markdown",
   "metadata": {},
   "source": [
    "# Laboratorio 5 - Parte 2\n",
    "\n",
    "### Máquinas de Vectores de Soporte\n",
    "\n",
    "### 2018-II\n",
    "\n",
    "#### Profesor: Julián D. Arias Londoño\n",
    "#### julian.ariasl@udea.edu.co"
   ]
  },
  {
   "cell_type": "markdown",
   "metadata": {},
   "source": [
    "## Guía del laboratorio\n",
    "\n",
    "En esta archivo va a encontrar tanto celdas de código cómo celdas de texto con las instrucciones para desarrollar el laboratorio.\n",
    "\n",
    "Lea atentamente las instrucciones entregadas en las celdas de texto correspondientes y proceda con la solución de las preguntas planteadas.\n",
    "\n",
    "Nota: no olvide ir ejecutando las celdas de código de arriba hacia abajo para que no tenga errores de importación de librerías o por falta de definición de variables."
   ]
  },
  {
   "cell_type": "markdown",
   "metadata": {},
   "source": [
    "#### Primer Integrante: Sidney Paola Aguirre Castro \n",
    "#### Segundo Integrante: John Alexander Galeano Ospina"
   ]
  },
  {
   "cell_type": "code",
<<<<<<< HEAD
   "execution_count": 2,
=======
   "execution_count": 13,
>>>>>>> 782ae96f5c0b7af8a8b89e6a3f57f9fee2a76521
   "metadata": {},
   "outputs": [],
   "source": [
    "from __future__ import division\n",
    "import numpy as np\n",
    "import math\n",
    "import matplotlib.pyplot as plt\n",
    "#Algunas advertencias que queremos evitar\n",
    "import warnings\n",
    "warnings.filterwarnings(\"always\")\n",
    "%matplotlib inline"
   ]
  },
  {
   "cell_type": "markdown",
   "metadata": {},
   "source": [
    "## Ejercicio 1\n",
    "\n",
    "En este ejercicio usaremos la regresión por vectores de soporte para resolver el problema de regresión de la base de datos AirQuality (https://archive.ics.uci.edu/ml/datasets/Air+Quality)."
   ]
  },
  {
   "cell_type": "markdown",
   "metadata": {},
   "source": [
    "La siguiente celda de código limpia la base de datos de todos sus datos faltantes y la deja lista en la variable DataBase."
   ]
  },
  {
   "cell_type": "code",
<<<<<<< HEAD
   "execution_count": 3,
=======
   "execution_count": 14,
>>>>>>> 782ae96f5c0b7af8a8b89e6a3f57f9fee2a76521
   "metadata": {},
   "outputs": [
    {
     "name": "stdout",
     "output_type": "stream",
     "text": [
      "Dim de la base de datos original: (9357, 13)\n",
      "\n",
      "Hay 366 valores perdidos en la variable de salida. :(\n",
      "\n",
      "Dim de la base de datos sin las muestras con variable de salida perdido (8991, 13)\n",
      "\n",
      "Procesando imputación de valores perdidos en las características . . .\n",
      "\n",
      "Imputación finalizada.\n",
      "\n",
      "No hay valores perdidos en la base de datos. Ahora se puede procesar. La base de datos está en la variable DataBase\n"
     ]
    }
   ],
   "source": [
    "#cargamos la bd de entrenamiento\n",
    "db = np.loadtxt('BDatos/AirQuality.data',delimiter='\\t')  # Assuming tab-delimiter\n",
    "print (\"Dim de la base de datos original: \" + str(np.shape(db)))\n",
    "db = db.reshape(9357,13)\n",
    "DataBase = db\n",
    "#La base d edatos AirQuality tiene muchos valores perdidos, vamos a quitar todos esos registros de la base de datos\n",
    "#Están marcados como -200. Donde haya un valor -200 eliminaremos el registro.\n",
    "j = 0\n",
    "for i in range(0,np.size(db,0)):\n",
    "    if -200 == db[i,12]:\n",
    "        #print i\n",
    "        j+=1\n",
    "        DataBase = np.delete(DataBase,i,0)\n",
    "    \n",
    "print (\"\\nHay \" + str(j) + \" valores perdidos en la variable de salida. :(\")\n",
    "\n",
    "print (\"\\nDim de la base de datos sin las muestras con variable de salida perdido \"+ str(np.shape(DataBase)))\n",
    "\n",
    "#Ya hemos eliminado los registros con valor de la variable de salida perdido.\n",
    "\n",
    "#Ahora vamos a imputar los valores perdidos en cada una de las características\n",
    "print (\"\\nProcesando imputación de valores perdidos en las características . . .\\n\")\n",
    "\n",
    "#data = open(\"AirQuality_cleaned.data\", \"w\")\n",
    "\n",
    "for k in range(0,np.size(DataBase,0)):\n",
    "    for w in range(0,13):\n",
    "        if -200 == DataBase[k,w]:\n",
    "            DataBase[k,w] = round(np.mean(DataBase[:,w]))\n",
    "        \n",
    "    #data.write(str(DataBase[k,:]))\n",
    "\n",
    "#data.close()\n",
    "print (\"Imputación finalizada.\\n\")\n",
    "\n",
    "hay_missed_values = False\n",
    "for i in range(0,np.size(DataBase,0)):\n",
    "    if -200 in DataBase[i,:]:\n",
    "        hay_missed_values = True\n",
    "if(hay_missed_values):\n",
    "    print (\"Hay valores perdidos\")\n",
    "else:\n",
    "    print (\"No hay valores perdidos en la base de datos. Ahora se puede procesar. La base de datos está en la variable DataBase\")"
   ]
  },
  {
   "cell_type": "code",
<<<<<<< HEAD
   "execution_count": 4,
=======
   "execution_count": 15,
>>>>>>> 782ae96f5c0b7af8a8b89e6a3f57f9fee2a76521
   "metadata": {},
   "outputs": [],
   "source": [
    "X = DataBase[:,0:12]\n",
    "\n",
    "Y = DataBase[:,12]"
   ]
  },
  {
   "cell_type": "markdown",
   "metadata": {},
   "source": [
    "Definimos la función"
   ]
  },
  {
   "cell_type": "code",
<<<<<<< HEAD
   "execution_count": 5,
=======
   "execution_count": 16,
>>>>>>> 782ae96f5c0b7af8a8b89e6a3f57f9fee2a76521
   "metadata": {},
   "outputs": [],
   "source": [
    "#Mean Absolute Percentage Error para los problemas de regresión\n",
    "def MAPE(Y_est,Y):\n",
    "    ind = Y != 0 #Remueve los elementos que son cero en la variable deseada\n",
    "    N = np.size(Y[ind])\n",
    "    mape = np.sum(abs((Y_est[ind].reshape(N,1) - Y[ind].reshape(N,1))/(Y[ind].reshape(N,1)+np.finfo(np.float).eps)))/N\n",
    "    return mape "
   ]
  },
  {
   "cell_type": "markdown",
   "metadata": {},
   "source": [
    "Complete el código siguiente para usar la regresión por vectores de suporte usando la librería sklearn. https://scikit-learn.org/stable/modules/generated/sklearn.svm.SVR.html"
   ]
  },
  {
   "cell_type": "code",
<<<<<<< HEAD
   "execution_count": 7,
=======
   "execution_count": 91,
>>>>>>> 782ae96f5c0b7af8a8b89e6a3f57f9fee2a76521
   "metadata": {},
   "outputs": [
    {
     "name": "stdout",
     "output_type": "stream",
     "text": [
<<<<<<< HEAD
      "C: 0.1 - gamma: 0.01\n",
      "\n",
      "Error de validación: 0.14749913966735667 +/- 0.038211091227871585\n",
      "% Vectores de Soporte: 0.19049660040575228\n",
      "\n",
      "\n",
      "Tiempo total de ejecución: 2.5921661853790283 segundos.\n"
=======
      "C: 10 - gamma: auto\n",
      "\n",
      "Error de validación: 0.2866052170692736 +/- 0.1500497705716069\n",
      "% Vectores de Soporte: 0.38633249759104876\n",
      "\n",
      "\n",
      "Tiempo total de ejecución: 199.879873752594 segundos.\n"
>>>>>>> 782ae96f5c0b7af8a8b89e6a3f57f9fee2a76521
     ]
    }
   ],
   "source": [
    "from sklearn.model_selection import KFold\n",
    "from sklearn import preprocessing\n",
    "from sklearn.svm import SVR\n",
    "import time\n",
    "tiempo_i = time.time()\n",
    "\n",
    "#Complete el código para crear el modelo SVM para regresión. \n",
    "#Use un kernel rbf con una malla de valores así: C en {0.1, 100} y gamma en {0.0001, 0.1}\n",
    "#clf = SVR(kernel='rbf', C:\n",
    "\n",
    "#Implemetamos la metodología de validación cross validation con 10 folds\n",
    "Folds = 5\n",
    "psv_mean = np.zeros(5)\n",
    "Errores = np.ones(Folds)\n",
    "j = 0\n",
    "kf = KFold(n_splits=Folds)\n",
    "\n",
    "for train_index, test_index in kf.split(X):\n",
    "    \n",
    "    X_train, X_test = X[train_index], X[test_index]\n",
    "    y_train, y_test = Y[train_index], Y[test_index] \n",
    "    \n",
    "    #Normalizamos los datos\n",
    "    scaler = preprocessing.StandardScaler().fit(X_train)\n",
    "    X_train = scaler.transform(X_train)\n",
    "    X_test = scaler.transform(X_test)\n",
    "       \n",
    "    #Complete el código\n",
    "    #Penalty parameter C of the error term.\n",
<<<<<<< HEAD
    "    C = 0.1\n",
    "    #Kernel ['linear',‘rbf’] Specifies the kernel type to be used in the algorithm.\n",
    "    kernel = 'rbf'\n",
    "    #Gamma \n",
    "    gamma = 0.01\n",
    "    #gamma = 'auto' #para gamma=0.\n",
=======
    "    C = 10\n",
    "    #Kernel ['linear',‘rbf’] Specifies the kernel type to be used in the algorithm.\n",
    "    kernel = 'linear'\n",
    "    #Gamma \n",
    "    #gamma = 1\n",
    "    gamma = 'auto' #para gamma=0.\n",
>>>>>>> 782ae96f5c0b7af8a8b89e6a3f57f9fee2a76521
    "    modelo = SVR(kernel=kernel, gamma=gamma, C=C)\n",
    "    \n",
    "    # Entrenar el modelo\n",
    "    modelo = modelo.fit(X_train, y_train)\n",
    "      \n",
    "    # Validación del modelo\n",
    "    ypred = modelo.predict(X_test)\n",
    "    #sacamos el porcentaje de los vectores de soporte\n",
    "    psv = modelo.support_vectors_\n",
    "    psv_mean[j] = psv.size/X_train.size\n",
    "    \n",
    "    Errores[j] = MAPE(ypred, y_test)\n",
    "    j+=1\n",
    "\n",
    "print(\"C: \" + str(C) + \" - gamma: \" +str(gamma) )\n",
    "print(\"\\nError de validación: \" + str(np.mean(Errores)) + \" +/- \" + str(np.std(Errores)))\n",
    "\n",
    "print(\"% Vectores de Soporte: \" + str(np.mean(psv_mean)))\n",
    "\n",
    "print ((\"\\n\\nTiempo total de ejecución: \" + str(time.time()-tiempo_i)) + \" segundos.\")\n"
   ]
  },
  {
   "cell_type": "markdown",
   "metadata": {},
   "source": [
    "## Ejercicio 2\n",
    "\n",
    "Una vez complete el código, realice las simulaciones necesarias para llenar la tabla siguiente:"
   ]
  },
  {
   "cell_type": "code",
   "execution_count": 69,
   "metadata": {},
   "outputs": [
    {
     "data": {
      "application/vnd.jupyter.widget-view+json": {
       "model_id": "a6c1a5c67ab94f88a11219bd26f8417b",
       "version_major": 2,
       "version_minor": 0
      },
      "text/plain": [
       "QgridWidget(grid_options={'fullWidthRows': True, 'syncColumnCellResize': True, 'forceFitColumns': True, 'defau…"
      ]
     },
     "metadata": {},
     "output_type": "display_data"
    }
   ],
   "source": [
    "import pandas as pd\n",
    "import qgrid\n",
    "df_types = pd.DataFrame({\n",
    "    'Kernel' : pd.Series(['lineal','lineal','lineal','lineal','lineal','lineal','rbf','rbf','rbf','rbf','rbf','rbf','rbf','rbf','rbf','rbf','rbf','rbf','rbf','rbf','rbf','rbf','rbf','rbf']),\n",
    "    'C' : pd.Series([0.001,0.01,0.1,1,10,100,0.001,0.001,0.001,0.01,0.01,0.01,0.1,0.1,0.1,1,1,1,10,10,10,100,100,100]),\n",
    "    'gamma' : pd.Series([0,0,0,0,0,0,0.01,0.1,1,0.01,0.1,1,0.01,0.1,1,0.01,0.1,1,0.01,0.1,1,0.01,0.1,1])})\n",
    "df_types[\"MAPE Promedio\"] = \"\"\n",
    "df_types[\"Intervalo de confianza\"] = \"\"\n",
    "df_types[\"% de Vectores de Soporte\"] = \"\"\n",
    "df_types.set_index(['Kernel','C','gamma'], inplace=True)\n",
    "df_types[\"MAPE Promedio\"][23] = \"0.2259\"\n",
    "df_types[\"Intervalo de confianza\"][23] = \"0.1109\"\n",
    "df_types[\"% de Vectores de Soporte\"][23] = \"0.2191\"\n",
    "#df_types.sort_index(inplace=True)\n",
    "qgrid_widget = qgrid.show_grid(df_types, show_toolbar=False)\n",
    "qgrid_widget"
   ]
  },
  {
   "cell_type": "markdown",
   "metadata": {},
   "source": [
    "Ejecute la siguiente instrucción para dejar guardados en el notebook los resultados de las pruebas."
   ]
  },
  {
   "cell_type": "code",
   "execution_count": 71,
   "metadata": {},
   "outputs": [
    {
     "data": {
      "text/html": [
       "<div>\n",
       "<style scoped>\n",
       "    .dataframe tbody tr th:only-of-type {\n",
       "        vertical-align: middle;\n",
       "    }\n",
       "\n",
       "    .dataframe tbody tr th {\n",
       "        vertical-align: top;\n",
       "    }\n",
       "\n",
       "    .dataframe thead th {\n",
       "        text-align: right;\n",
       "    }\n",
       "</style>\n",
       "<table border=\"1\" class=\"dataframe\">\n",
       "  <thead>\n",
       "    <tr style=\"text-align: right;\">\n",
       "      <th></th>\n",
       "      <th></th>\n",
       "      <th></th>\n",
       "      <th>MAPE Promedio</th>\n",
       "      <th>Intervalo de confianza</th>\n",
       "      <th>% de Vectores de Soporte</th>\n",
       "    </tr>\n",
       "    <tr>\n",
       "      <th>Kernel</th>\n",
       "      <th>C</th>\n",
       "      <th>gamma</th>\n",
       "      <th></th>\n",
       "      <th></th>\n",
       "      <th></th>\n",
       "    </tr>\n",
       "  </thead>\n",
       "  <tbody>\n",
       "    <tr>\n",
       "      <th rowspan=\"6\" valign=\"top\">lineal</th>\n",
       "      <th>0.001</th>\n",
       "      <th>0.00</th>\n",
       "      <td>0.2153</td>\n",
       "      <td>0.0646</td>\n",
       "      <td>0.3786</td>\n",
       "    </tr>\n",
       "    <tr>\n",
       "      <th>0.010</th>\n",
       "      <th>0.00</th>\n",
       "      <td>0.2449</td>\n",
       "      <td>0.0962</td>\n",
       "      <td>0.3766</td>\n",
       "    </tr>\n",
       "    <tr>\n",
       "      <th>0.100</th>\n",
       "      <th>0.00</th>\n",
       "      <td>0.2768</td>\n",
       "      <td>0.1346</td>\n",
       "      <td>0.3849</td>\n",
       "    </tr>\n",
       "    <tr>\n",
       "      <th>1.000</th>\n",
       "      <th>0.00</th>\n",
       "      <td>0.2869</td>\n",
       "      <td>0.1507</td>\n",
       "      <td>0.3862</td>\n",
       "    </tr>\n",
       "    <tr>\n",
       "      <th>10.000</th>\n",
       "      <th>0.00</th>\n",
       "      <td>0.2866</td>\n",
       "      <td>0.1500</td>\n",
       "      <td>0.3863</td>\n",
       "    </tr>\n",
       "    <tr>\n",
       "      <th>100.000</th>\n",
       "      <th>0.00</th>\n",
       "      <td>0.2885</td>\n",
       "      <td>0.1531</td>\n",
       "      <td>0.3863</td>\n",
       "    </tr>\n",
       "    <tr>\n",
       "      <th rowspan=\"18\" valign=\"top\">rbf</th>\n",
       "      <th rowspan=\"3\" valign=\"top\">0.001</th>\n",
       "      <th>0.01</th>\n",
       "      <td>0.4014</td>\n",
       "      <td>0.2062</td>\n",
       "      <td>0.7470</td>\n",
       "    </tr>\n",
       "    <tr>\n",
       "      <th>0.10</th>\n",
       "      <td>0.3285</td>\n",
       "      <td>0.1402</td>\n",
       "      <td>0.6425</td>\n",
       "    </tr>\n",
       "    <tr>\n",
       "      <th>1.00</th>\n",
       "      <td>0.4905</td>\n",
       "      <td>0.2859</td>\n",
       "      <td>0.7693</td>\n",
       "    </tr>\n",
       "    <tr>\n",
       "      <th rowspan=\"3\" valign=\"top\">0.010</th>\n",
       "      <th>0.01</th>\n",
       "      <td>0.1830</td>\n",
       "      <td>0.0380</td>\n",
       "      <td>0.4433</td>\n",
       "    </tr>\n",
       "    <tr>\n",
       "      <th>0.10</th>\n",
       "      <td>0.1792</td>\n",
       "      <td>0.0505</td>\n",
       "      <td>0.2780</td>\n",
       "    </tr>\n",
       "    <tr>\n",
       "      <th>1.00</th>\n",
       "      <td>0.3905</td>\n",
       "      <td>0.2341</td>\n",
       "      <td>0.5615</td>\n",
       "    </tr>\n",
       "    <tr>\n",
       "      <th rowspan=\"3\" valign=\"top\">0.100</th>\n",
       "      <th>0.01</th>\n",
       "      <td>0.1474</td>\n",
       "      <td>0.0382</td>\n",
       "      <td>0.1904</td>\n",
       "    </tr>\n",
       "    <tr>\n",
       "      <th>0.10</th>\n",
       "      <td>0.1499</td>\n",
       "      <td>0.0544</td>\n",
       "      <td>0.1517</td>\n",
       "    </tr>\n",
       "    <tr>\n",
       "      <th>1.00</th>\n",
       "      <td>0.2685</td>\n",
       "      <td>0.1504</td>\n",
       "      <td>0.2690</td>\n",
       "    </tr>\n",
       "    <tr>\n",
       "      <th rowspan=\"3\" valign=\"top\">1.000</th>\n",
       "      <th>0.01</th>\n",
       "      <td>0.2044</td>\n",
       "      <td>0.1874</td>\n",
       "      <td>0.1220</td>\n",
       "    </tr>\n",
       "    <tr>\n",
       "      <th>0.10</th>\n",
       "      <td>0.1916</td>\n",
       "      <td>0.1404</td>\n",
       "      <td>0.1657</td>\n",
       "    </tr>\n",
       "    <tr>\n",
       "      <th>1.00</th>\n",
       "      <td>0.2378</td>\n",
       "      <td>0.1299</td>\n",
       "      <td>0.2166</td>\n",
       "    </tr>\n",
       "    <tr>\n",
       "      <th rowspan=\"3\" valign=\"top\">10.000</th>\n",
       "      <th>0.01</th>\n",
       "      <td>0.5590</td>\n",
       "      <td>0.9123</td>\n",
       "      <td>0.1637</td>\n",
       "    </tr>\n",
       "    <tr>\n",
       "      <th>0.10</th>\n",
       "      <td>0.1802</td>\n",
       "      <td>0.1709</td>\n",
       "      <td>0.1044</td>\n",
       "    </tr>\n",
       "    <tr>\n",
       "      <th>1.00</th>\n",
       "      <td>0.2226</td>\n",
       "      <td>0.1082</td>\n",
       "      <td>0.2132</td>\n",
       "    </tr>\n",
       "    <tr>\n",
       "      <th rowspan=\"3\" valign=\"top\">100.000</th>\n",
       "      <th>0.01</th>\n",
       "      <td>0.6903</td>\n",
       "      <td>1.2096</td>\n",
       "      <td>0.1021</td>\n",
       "    </tr>\n",
       "    <tr>\n",
       "      <th>0.10</th>\n",
       "      <td>0.2141</td>\n",
       "      <td>0.2035</td>\n",
       "      <td>0.1046</td>\n",
       "    </tr>\n",
       "    <tr>\n",
       "      <th>1.00</th>\n",
       "      <td>0.2259</td>\n",
       "      <td>0.1109</td>\n",
       "      <td>0.2191</td>\n",
       "    </tr>\n",
       "  </tbody>\n",
       "</table>\n",
       "</div>"
      ],
      "text/plain": [
       "                     MAPE Promedio Intervalo de confianza  \\\n",
       "Kernel C       gamma                                        \n",
       "lineal 0.001   0.00         0.2153                 0.0646   \n",
       "       0.010   0.00         0.2449                 0.0962   \n",
       "       0.100   0.00         0.2768                 0.1346   \n",
       "       1.000   0.00         0.2869                 0.1507   \n",
       "       10.000  0.00         0.2866                 0.1500   \n",
       "       100.000 0.00         0.2885                 0.1531   \n",
       "rbf    0.001   0.01         0.4014                 0.2062   \n",
       "               0.10         0.3285                 0.1402   \n",
       "               1.00         0.4905                 0.2859   \n",
       "       0.010   0.01         0.1830                 0.0380   \n",
       "               0.10         0.1792                 0.0505   \n",
       "               1.00         0.3905                 0.2341   \n",
       "       0.100   0.01         0.1474                 0.0382   \n",
       "               0.10         0.1499                 0.0544   \n",
       "               1.00         0.2685                 0.1504   \n",
       "       1.000   0.01         0.2044                 0.1874   \n",
       "               0.10         0.1916                 0.1404   \n",
       "               1.00         0.2378                 0.1299   \n",
       "       10.000  0.01         0.5590                 0.9123   \n",
       "               0.10         0.1802                 0.1709   \n",
       "               1.00         0.2226                 0.1082   \n",
       "       100.000 0.01         0.6903                 1.2096   \n",
       "               0.10         0.2141                 0.2035   \n",
       "               1.00         0.2259                 0.1109   \n",
       "\n",
       "                     % de Vectores de Soporte  \n",
       "Kernel C       gamma                           \n",
       "lineal 0.001   0.00                    0.3786  \n",
       "       0.010   0.00                    0.3766  \n",
       "       0.100   0.00                    0.3849  \n",
       "       1.000   0.00                    0.3862  \n",
       "       10.000  0.00                    0.3863  \n",
       "       100.000 0.00                    0.3863  \n",
       "rbf    0.001   0.01                    0.7470  \n",
       "               0.10                    0.6425  \n",
       "               1.00                    0.7693  \n",
       "       0.010   0.01                    0.4433  \n",
       "               0.10                    0.2780  \n",
       "               1.00                    0.5615  \n",
       "       0.100   0.01                    0.1904  \n",
       "               0.10                    0.1517  \n",
       "               1.00                    0.2690  \n",
       "       1.000   0.01                    0.1220  \n",
       "               0.10                    0.1657  \n",
       "               1.00                    0.2166  \n",
       "       10.000  0.01                    0.1637  \n",
       "               0.10                    0.1044  \n",
       "               1.00                    0.2132  \n",
       "       100.000 0.01                    0.1021  \n",
       "               0.10                    0.1046  \n",
       "               1.00                    0.2191  "
      ]
     },
     "execution_count": 71,
     "metadata": {},
     "output_type": "execute_result"
    }
   ],
   "source": [
    "qgrid_widget.get_changed_df()"
   ]
  },
  {
   "cell_type": "markdown",
   "metadata": {},
   "source": [
    "**3.1 ¿Cuál es la finalidad de usar las funciones kernel en el modelo SVM?**\n",
    "\n",
    "R/: La finalidad de usar funciones kernel en el modelo SVM es poder proyectar el espacio de características a un espacio con una dimensión mayor para hacer que una función lineal se aproxime más a los puntos. \n",
    "\n",
    "**3.2 ¿En este caso el porcentaje de vectores de soporte provee una información similar que en el problema de clasificación? Explique su respuesta.**\n",
    "\n",
<<<<<<< HEAD
    "R/: Comparando con la información que el porcentaje de vectores de soporte ofrece en el problema de clasificación, decimos que **no** se obtiene una información similar en el caso de regresión, porque analizando los resultados, vemos una relación entre la eficiencia y el % de los vectores para este set de datos de la calidad del aire se presenta que los datos son linealmente separables por lo cual con una cantidad menor de vectores obtenemos una eficiencia mejor.\n"
=======
    "R/: Comparando con la información que el porcentaje de vectores de soporte ofrece en el problema de clasificación, decimos que **sí** se obtiene una información similar en el caso de regresión, porque analizando los resultados, mientras más cantidad de vectores de soporte, menor es la eficiencia del modelo, y mayor el porcentaje promedio de error.\n"
>>>>>>> 782ae96f5c0b7af8a8b89e6a3f57f9fee2a76521
   ]
  },
  {
   "cell_type": "markdown",
   "metadata": {},
   "source": [
    "3.3 Realice una gráfica de las salidas reales vs las predicciones del modelo SVM, para evaluar visualmente el desempeño del mismo. Esto solo para la configuración en la cuál se encontró el menor error."
   ]
  },
  {
   "cell_type": "code",
<<<<<<< HEAD
   "execution_count": 10,
=======
   "execution_count": 92,
>>>>>>> 782ae96f5c0b7af8a8b89e6a3f57f9fee2a76521
   "metadata": {},
   "outputs": [
    {
     "data": {
<<<<<<< HEAD
      "image/png": "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\n",
=======
      "image/png": "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\n",
>>>>>>> 782ae96f5c0b7af8a8b89e6a3f57f9fee2a76521
      "text/plain": [
       "<Figure size 432x288 with 1 Axes>"
      ]
     },
<<<<<<< HEAD
     "metadata": {
      "needs_background": "light"
     },
=======
     "metadata": {},
>>>>>>> 782ae96f5c0b7af8a8b89e6a3f57f9fee2a76521
     "output_type": "display_data"
    },
    {
     "name": "stdout",
     "output_type": "stream",
     "text": [
<<<<<<< HEAD
      "Costo computacional:  135.42610216140747  s\n"
=======
      "Costo computacional:  525.7940120697021  s\n"
>>>>>>> 782ae96f5c0b7af8a8b89e6a3f57f9fee2a76521
     ]
    }
   ],
   "source": [
    "#Complete el código para hacer la gráfica aquí\n",
<<<<<<< HEAD
    "# Con C = 0.1 y gammas = 0.01 y kernel = rbf\n",
=======
    "\n",
>>>>>>> 782ae96f5c0b7af8a8b89e6a3f57f9fee2a76521
    "plt.title('Salidas Esperadas vs Predicciones', fontsize=14)\n",
    "plt.plot(y_test)\n",
    "plt.plot(ypred)\n",
    "plt.legend(['Teórico', 'Predicho'], loc=4)\n",
    "plt.show()\n",
    "\n",
    "print('Costo computacional: ', time.time()-tiempo_i, ' s')"
   ]
  },
  {
   "cell_type": "code",
   "execution_count": null,
   "metadata": {},
   "outputs": [],
   "source": []
  }
 ],
 "metadata": {
  "kernelspec": {
   "display_name": "Python 3",
   "language": "python",
   "name": "python3"
  },
  "language_info": {
   "codemirror_mode": {
    "name": "ipython",
    "version": 3
   },
   "file_extension": ".py",
   "mimetype": "text/x-python",
   "name": "python",
   "nbconvert_exporter": "python",
   "pygments_lexer": "ipython3",
   "version": "3.6.5"
  }
 },
 "nbformat": 4,
 "nbformat_minor": 2
}
