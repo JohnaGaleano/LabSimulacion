{
 "cells": [
  {
   "cell_type": "markdown",
   "metadata": {},
   "source": [
    "# Laboratorio 2 - Parte 1\n",
    "\n",
    "### Modelos no paramétricos\n",
    "\n",
    "### 2018-II\n",
    "\n",
    "#### Profesor: Julián D. Arias Londoño\n",
    "#### julian.ariasl@udea.edu.co\n"
   ]
  },
  {
   "cell_type": "markdown",
   "metadata": {},
   "source": [
    "## Guía del laboratorio\n",
    "\n",
    "En esta archivo va a encontrar tanto celdas de código cómo celdas de texto con las instrucciones para desarrollar el laboratorio.\n",
    "\n",
    "Lea atentamente las instrucciones entregadas en las celdas de texto correspondientes y proceda con la solución de las preguntas planteadas.\n",
    "\n",
    "Nota: no olvide ir ejecutando las celdas de código de arriba hacia abajo para que no tenga errores de importación de librerías o por falta de definición de variables."
   ]
  },
  {
   "cell_type": "code",
   "execution_count": 1,
   "metadata": {},
   "outputs": [
    {
     "name": "stdout",
     "output_type": "stream",
     "text": [
      "Haga click en el siguiente enlace para autenticarse con su cuenta de correo institucional\n",
      "https://accounts.google.com/o/oauth2/auth?client_id=893762525034-g9d91ddls9e19a1q77c7hsq2rhgqo9h7.apps.googleusercontent.com&redirect_uri=http%3A%2F%2Flocalhost%3A8080&scope=profile+email&access_type=offline&response_type=code\n",
      "waiting for authentication ...\n",
      "authentication succeeded\n",
      "/?code=4/SACGRJzCVhGGzPuEQs5pyvVIYZGJ_MQThCAs42D_LBFf2lKoC7ifX1FjYdAHpl5w3kk_bldYyFu2sTzb3HPlI30\n"
     ]
    },
    {
     "data": {
      "text/html": [
       "<table><tr><td><img src='https://lh6.googleusercontent.com/-IyRKvwiEzoA/AAAAAAAAAAI/AAAAAAAAACo/XBI96lqyxzU/photo.jpg' width=60 height=60/></td><td>johna.galeano@udea.edu.co<br/>JOHN   ALEXÁNDER GALEANO OSPINA<br/>google id: 111882263615850761169<br/></td></tr></table>"
      ],
      "text/plain": [
       "<IPython.core.display.HTML object>"
      ]
     },
     "execution_count": 1,
     "metadata": {},
     "output_type": "execute_result"
    }
   ],
   "source": [
    "#Tomado de https://github.com/rramosp/mooc-grader\n",
    "from Autentication import *#python 3\n",
    "import inspect, urllib\n",
    "html, auth_code, userinfo = google_authenticate(PORT_NUMBER=8080)\n",
    "html\n"
   ]
  },
  {
   "cell_type": "markdown",
   "metadata": {},
   "source": [
    "#### Segundo integrante: Sidney Paola Aguirre Castro"
   ]
  },
  {
   "cell_type": "code",
   "execution_count": 1,
   "metadata": {},
   "outputs": [],
   "source": [
    "%matplotlib inline\n",
    "import numpy as np\n",
    "import matplotlib.pyplot as plt\n",
    "from __future__ import division\n",
    "\n",
    "#Algunas advertencias que queremos evitar\n",
    "import warnings\n",
    "warnings.filterwarnings(\"always\")"
   ]
  },
  {
   "cell_type": "markdown",
   "metadata": {},
   "source": [
    "## Ejercicio 1\n",
    "\n",
    "Genere un conjunto de 1000 muestras artificiales con una distribución que corresponda a la suma de dos Gaussiana con diferente media, ambas de una sola dimension. Grafique el histograma de los datos generados."
   ]
  },
  {
   "cell_type": "code",
   "execution_count": 2,
   "metadata": {},
   "outputs": [
    {
     "data": {
      "image/png": "[encoded data removed]",
      "text/plain": [
       "<Figure size 432x288 with 1 Axes>"
      ]
     },
     "metadata": {},
     "output_type": "display_data"
    }
   ],
   "source": [
    "#Resuelva el ejercicio 1 aquí\n",
    "\n",
    "import numpy as np\n",
    "import matplotlib.pyplot as plt\n",
    "from __future__ import division\n",
    "from matplotlib.pylab import hist, show\n",
    "import statistics as stats\n",
    "\n",
    "\n",
    "data = np.random.normal(5, 2, 500) ## media, desviación estándar, cant datos\n",
    "data2= np.random.normal(15, 2, 500)\n",
    "suma = data + data2 ##Suma de las dos muestras\n",
    "hist(suma,30, (0,40)) ##(a, bins=10, range=None, normed=None, weights=None, density=None)\n",
    "show()"
   ]
  },
  {
   "cell_type": "markdown",
   "metadata": {},
   "source": [
    "## Ejercicio 2\n",
    "\n",
    "Para el problema de regresion usaremos la misma base de datos del laboratorio anterior."
   ]
  },
  {
   "cell_type": "code",
   "execution_count": 3,
   "metadata": {},
   "outputs": [],
   "source": [
    "#cargamos la bd que está en un archivo .data y ahora la podemos manejar de forma matricial\n",
    "db = np.loadtxt('DB/AirQuality.data',delimiter='\\t')  # Assuming tab-delimiter\n",
    "\n",
    "#Esta es la base de datos AirQuality del UCI Machine Learning Repository. En la siguiente URL se encuentra toda\n",
    "#la descripción de la base de datos y la contextualización del problema.\n",
    "#https://archive.ics.uci.edu/ml/datasets/Air+Quality#\n",
    "\n",
    "X = db[:5000,0:12]\n",
    "Y = db[:5000,12]"
   ]
  },
  {
   "cell_type": "markdown",
   "metadata": {},
   "source": [
    "Describa cómo esta construida la base de datos utilizada en el problema de regresion: \n",
    "\n",
    "2.1 ¿Cuántas muestras hay en total?:\n",
    "\n",
    "2.2 ¿Cuántas características tiene el problema?:"
   ]
  },
  {
   "cell_type": "code",
   "execution_count": 4,
   "metadata": {},
   "outputs": [
    {
     "name": "stdout",
     "output_type": "stream",
     "text": [
      "la cantidad de muestas son: 5000\n",
      "la cantidad de caracteristicas son: 12\n"
     ]
    }
   ],
   "source": [
    "muestras=np.size(X,0)\n",
    "caracteristicas=np.size(X,1)\n",
    "\n",
    "print('la cantidad de muestas son: ' + str(muestras))\n",
    "print('la cantidad de caracteristicas son: '+ str(caracteristicas))"
   ]
  },
  {
   "cell_type": "markdown",
   "metadata": {},
   "source": [
    "## Ejercicio 3\n",
    "\n",
    "Analice los siguientes métodos a la luz de la teoría vista para los modelos de K vecinos más cercanos (KNN) y complete el código del método KNN.\n",
    "\n",
    "<b>Nota</b>: Para el cáculo de la distancia entre vectores tienen dos opciones, usar la función scipy.spatial.distance.euclidean o usar la función numpy.linalg.norm. Revisen la documentación para comprender su uso. También serán de utilidad las funciones numpy.sort y numpy.argsort.\n"
   ]
  },
  {
   "cell_type": "code",
   "execution_count": 6,
   "metadata": {},
   "outputs": [],
   "source": [
    " from scipy import stats\n",
    "import operator\n",
    "\n",
    "\n",
    "#Mean Absolute Percentage Error para los problemas de regresión\n",
    "def MAPE(Y_est,Y):\n",
    "    N = np.size(Y)\n",
    "    mape = np.sum(abs((Y_est.reshape(N,1) - Y.reshape(N,1))/Y.reshape(N,1)))/N\n",
    "    return mape \n",
    "\n",
    "#Para calcular el error en los problemas de clasificación\n",
    "def error(Y_lest, Y):\n",
    "    error = 0\n",
    "    for ye, y in zip(Y_lest, Y):\n",
    "        if ye != y:\n",
    "            error += 1\n",
    "    \n",
    "    error = error/np.size(Y)\n",
    "    \n",
    "    return error\n",
    "\n",
    "\n",
    "def KNN(X_train, Y_train, X_val, k, tipo):\n",
    "    \n",
    "    #X_train es la matriz con las muestras de entrenamiento\n",
    "    #Y_train es un vector con los valores de salida pra cada una de las muestras de entrenamiento\n",
    "    #X_val es la matriz con las muestras de validación\n",
    "    #tipo es una bandera que indica si el problema es de regresión o de clasificación.\n",
    "    tipo = tipo\n",
    "    k = k    #Parámetro k que equivale al número de vecinos a tener en cuenta para resolver el problema de\n",
    "               #predicción de la variable de salida\n",
    "    N = np.shape(Y_train)[0]\n",
    "    Y_val = np.zeros(N).reshape(N,1)\n",
    "    Y_train = Y_train.reshape(N,1) #Asigna espacio correctamente de Y\n",
    "    \n",
    "    # obtenemos la matriz con todas las distancias de las 1500 muestras nuevas\n",
    "    # con respecto a todas las 3500 muestras de entrenamiento\n",
    "    D = distance(X_val, X_train)\n",
    "    D_argsort = np.argsort(D, axis = 1)\n",
    "\n",
    "    Nt = len(X_val)\n",
    " \n",
    "    #Matriz con la salida i correspondiente a la posición indicada en D_argsort\n",
    "    Y_argsort = Yout(k, D_argsort, Y_train)\n",
    "\n",
    "    Y_val = np.zeros(Nt).T\n",
    "    \n",
    "\n",
    "    if(tipo == 0):\n",
    "        #regresion\n",
    "        for x in range (Nt):\n",
    "            average = np.average(Y_argsort[x])\n",
    "            Y_val[x] = average\n",
    "            \n",
    "    elif(tipo == 1):\n",
    "        #clasificacion\n",
    "        \n",
    "        for x in range (Nt):\n",
    "            mode = stats.mode(Y_argsort[x])           \n",
    "            Y_val[x] = mode[0].astype(float)\n",
    "            \n",
    "    Y_val.reshape(Nt,1)\n",
    "    # print(Y_val, Y_val.shape)\n",
    "    #¿por qué no muestra la forma correcta del vector? si es (1500,1)\n",
    "    \n",
    "    return Y_val #Debe retornar un vector que contenga las predicciones para cada una de las muestras en X_val, en el mismo orden.  \n",
    "\n",
    "def distance(X_val, X_train):\n",
    "    \n",
    "    L = np.dot(X_val, X_train.T)\n",
    "    tem = np.sum(X_val * X_val, axis=1).reshape([X_val.shape[0],1])\n",
    "    tem2 = np.sum(X_train * X_train, axis=1).reshape([1,X_train.shape[0]])\n",
    "    \n",
    "    D = np.dot(tem, np.ones((1,X_train.shape[0]))) + np.dot(np.ones((X_val.shape[0],1)), tem2) - 2* L\n",
    "    D = np.sqrt(D)\n",
    "    \n",
    "    return D\n",
    "\n",
    "#Me retorna la salida Y_i proveniente de la matriz que contiene la posición de la distancia más cortas (vecinos más cercanos)\n",
    "# de las nuevas muestras\n",
    "def Yout (k, D_argsort, Y_train):\n",
    "    N = len(D_argsort)    \n",
    "    kn = D_argsort[ : , 0: k]\n",
    "    kn = kn.reshape(len(D_argsort),k)\n",
    "    Y_val = np.zeros((N,k))\n",
    "\n",
    "  #  Y_val =np.array( [[Y_train[kn[y,x]] for x in range(k)] for y in range(N)]) :list_comprehesion\n",
    "    for x in range (N):\n",
    "        for y in range (k):\n",
    "               Y_val[x][y] = Y_train[kn[x,y]]\n",
    "    \n",
    "    return Y_val"
   ]
  },
  {
   "cell_type": "markdown",
   "metadata": {},
   "source": [
    "## Ejercicio 4\n",
    "\n",
    "Una vez haya completado el codigo del método de KNN, ejecute varias veces el proceso de entrenamiento y evaluacion cambiando el parametro $k$, el cual es el numero de vecinos, y complete la siguiente tabla con los valores del error MAPE obtenidos:"
   ]
  },
  {
   "cell_type": "code",
   "execution_count": 7,
   "metadata": {},
   "outputs": [
    {
     "name": "stdout",
     "output_type": "stream",
     "text": [
      "\n",
      "Error durante la prueba = 0.3630095013508765 +- 0.006140024361192514\n",
      "Muestras entrenamiento 3500\n",
      "Muestras validación 1500\n"
     ]
    }
   ],
   "source": [
    "from numpy import random\n",
    "from scipy import stats\n",
    "\n",
    "import math\n",
    "\n",
    "N = np.size(X,0)\n",
    "\n",
    "#tipoKNN = 0 Regresión\n",
    "#tipoKNN = 1 Clasificación\n",
    "\n",
    "def main(k_vecinos, tipoKNN=0):\n",
    "    #Validamos el modelo\n",
    "    random.seed(1)\n",
    "    Error = np.zeros(2)\n",
    "    for j in range(2):\n",
    "        ind=np.random.permutation(N)\n",
    "        Xtrain = X[ind[0:int(math.ceil(0.7*N))],:]\n",
    "        Xtest = X[ind[int(math.ceil(0.7*N)):N],:]\n",
    "        Ytrain = Y[ind[0:int(math.ceil(0.7*N))]]\n",
    "        Ytest = Y[ind[int(math.ceil(0.7*N)):N]]\n",
    "\n",
    "        #Normalizamos los datos\n",
    "        media = np.mean(Xtrain)\n",
    "        desvia = np.std(Xtrain)\n",
    "        Xtrain = stats.zscore(Xtrain)\n",
    "        Xtest = (Xtest - np.matlib.repmat(media, Xtest.shape[0], 1))/np.matlib.repmat(desvia, Xtest.shape[0], 1)\n",
    "\n",
    "        Yest = KNN(Xtrain, Ytrain, Xtest, k_vecinos, tipoKNN)#Complete con el llamado apropiado de la función que Uds diseñaron\n",
    "\n",
    "        # Evaluamos las predicciones del modelo con los datos de test\n",
    "        Error[j] = MAPE(Yest,Ytest)\n",
    "    print('\\nError durante la prueba = ' + str(np.mean(Error)) + ' +- ' + str(np.std(Error)))\n",
    "    print(\"Muestras entrenamiento\",np.size(Xtrain,0))\n",
    "    print(\"Muestras validación\",np.size(Xtest,0))\n",
    "\n",
    "main(2);\n",
    "\n"
   ]
  },
  {
   "cell_type": "markdown",
   "metadata": {},
   "source": [
    "Responda:\n",
    "\n",
    "4.1 ¿Qué metodología de validación se usa en el experimento?\n",
    "R: Bootstrapping\n",
    "\n",
    "4.2 ¿Cuántas muestras se usan para el entrenamiento?\n",
    "R: Se utilizan 3500 muestras para el entrenamiento, equivalentes al 70% de las muestras.\n",
    "\n",
    "4.3 ¿Cuántas muestras se usan para la validación?\n",
    "R:1500 muestras para la validación, equivalentes al 30% restante"
   ]
  },
  {
   "cell_type": "markdown",
   "metadata": {},
   "source": [
    "#### Tabla de resultados"
   ]
  },
  {
   "cell_type": "code",
   "execution_count": 9,
   "metadata": {},
   "outputs": [
    {
     "ename": "ModuleNotFoundError",
     "evalue": "No module named 'qgrid'",
     "output_type": "error",
     "traceback": [
      "\u001b[1;31m---------------------------------------------------------------------------\u001b[0m",
      "\u001b[1;31mModuleNotFoundError\u001b[0m                       Traceback (most recent call last)",
      "\u001b[1;32m<ipython-input-9-5080e724b43d>\u001b[0m in \u001b[0;36m<module>\u001b[1;34m()\u001b[0m\n\u001b[0;32m      1\u001b[0m \u001b[0mget_ipython\u001b[0m\u001b[1;33m(\u001b[0m\u001b[1;33m)\u001b[0m\u001b[1;33m.\u001b[0m\u001b[0mrun_line_magic\u001b[0m\u001b[1;33m(\u001b[0m\u001b[1;34m'matplotlib'\u001b[0m\u001b[1;33m,\u001b[0m \u001b[1;34m'inline'\u001b[0m\u001b[1;33m)\u001b[0m\u001b[1;33m\u001b[0m\u001b[0m\n\u001b[0;32m      2\u001b[0m \u001b[1;32mimport\u001b[0m \u001b[0mpandas\u001b[0m \u001b[1;32mas\u001b[0m \u001b[0mpd\u001b[0m\u001b[1;33m\u001b[0m\u001b[0m\n\u001b[1;32m----> 3\u001b[1;33m \u001b[1;32mimport\u001b[0m \u001b[0mqgrid\u001b[0m\u001b[1;33m\u001b[0m\u001b[0m\n\u001b[0m\u001b[0;32m      4\u001b[0m \u001b[0mrandn\u001b[0m \u001b[1;33m=\u001b[0m \u001b[0mnp\u001b[0m\u001b[1;33m.\u001b[0m\u001b[0mrandom\u001b[0m\u001b[1;33m.\u001b[0m\u001b[0mrandn\u001b[0m\u001b[1;33m\u001b[0m\u001b[0m\n\u001b[0;32m      5\u001b[0m df_types = pd.DataFrame({\n",
      "\u001b[1;31mModuleNotFoundError\u001b[0m: No module named 'qgrid'"
     ]
    }
   ],
   "source": [
    "%matplotlib inline\n",
    "import pandas as pd\n",
    "import qgrid\n",
    "randn = np.random.randn\n",
    "df_types = pd.DataFrame({\n",
    "    'Numero de vecinos' : pd.Series(['1', '2', '3', '4', '5', '6', '7', '100'])})\n",
    "df_types[\"Error_Prueba\"] = \"\"\n",
    "df_types[\"Desviación estándar del error\"] = \"\"\n",
    "df_types.set_index(['Numero de vecinos'], inplace=True)\n",
    "df_types[\"Error_Prueba\"][1] = \"0.3630\"\n",
    "df_types[\"Desviación estándar del error\"][1] = \"0.0061\"\n",
    "#df_types.sort_index(inplace=True)\n",
    "qgrid_widget = qgrid.show_grid(df_types, show_toolbar=False)\n",
    "qgrid_widget"
   ]
  },
  {
   "cell_type": "code",
   "execution_count": null,
   "metadata": {},
   "outputs": [],
   "source": [
    "Ejecute la siguiente instrucción para dejar guardados en el notebook los resultados de las pruebas."
   ]
  },
  {
   "cell_type": "code",
   "execution_count": 10,
   "metadata": {},
   "outputs": [
    {
     "name": "stdout",
     "output_type": "stream",
     "text": [
      "********* Numero de vecino =  1\n",
      "\n",
      "Error durante la prueba = 0.3840372997747079 +- 0.016497301273993348\n",
      "Muestras entrenamiento 3500\n",
      "Muestras validación 1500\n",
      "\n",
      "\n",
      "********* Numero de vecino =  2\n",
      "\n",
      "Error durante la prueba = 0.3630095013508765 +- 0.006140024361192514\n",
      "Muestras entrenamiento 3500\n",
      "Muestras validación 1500\n",
      "\n",
      "\n",
      "********* Numero de vecino =  3\n",
      "\n",
      "Error durante la prueba = 0.3497424913566185 +- 0.0023601226154101596\n",
      "Muestras entrenamiento 3500\n",
      "Muestras validación 1500\n",
      "\n",
      "\n",
      "********* Numero de vecino =  4\n",
      "\n",
      "Error durante la prueba = 0.34117124804036614 +- 0.004561202028195682\n",
      "Muestras entrenamiento 3500\n",
      "Muestras validación 1500\n",
      "\n",
      "\n",
      "********* Numero de vecino =  5\n",
      "\n",
      "Error durante la prueba = 0.33365100995901664 +- 0.0027102869335308977\n",
      "Muestras entrenamiento 3500\n",
      "Muestras validación 1500\n",
      "\n",
      "\n",
      "********* Numero de vecino =  6\n",
      "\n",
      "Error durante la prueba = 0.3252859355963996 +- 0.001992847379454543\n",
      "Muestras entrenamiento 3500\n",
      "Muestras validación 1500\n",
      "\n",
      "\n",
      "********* Numero de vecino =  7\n",
      "\n",
      "Error durante la prueba = 0.3201103542753637 +- 0.0007978802015047026\n",
      "Muestras entrenamiento 3500\n",
      "Muestras validación 1500\n",
      "\n",
      "\n",
      "********* Numero de vecino =  100\n",
      "\n",
      "Error durante la prueba = 0.26879661924012493 +- 0.005340544195603092\n",
      "Muestras entrenamiento 3500\n",
      "Muestras validación 1500\n",
      "\n",
      "\n"
     ]
    }
   ],
   "source": [
    "k_vecinosArray = [1,2,3,4,5,6,7,100]\n",
    "for i in k_vecinosArray:\n",
    "    print(\"********* Numero de vecino = \",i)\n",
    "    main(i)\n",
    "    print(\"\\n\")"
   ]
  },
  {
   "cell_type": "markdown",
   "metadata": {},
   "source": [
    "Ejecute la siguiente instrucción para dejar guardados en el notebook los resultados de las pruebas."
   ]
  },
  {
   "cell_type": "code",
   "execution_count": 82,
   "metadata": {},
   "outputs": [
    {
     "data": {
      "text/html": [
       "<div>\n",
       "<style scoped>\n",
       "    .dataframe tbody tr th:only-of-type {\n",
       "        vertical-align: middle;\n",
       "    }\n",
       "\n",
       "    .dataframe tbody tr th {\n",
       "        vertical-align: top;\n",
       "    }\n",
       "\n",
       "    .dataframe thead th {\n",
       "        text-align: right;\n",
       "    }\n",
       "</style>\n",
       "<table border=\"1\" class=\"dataframe\">\n",
       "  <thead>\n",
       "    <tr style=\"text-align: right;\">\n",
       "      <th></th>\n",
       "      <th>Error_Prueba</th>\n",
       "      <th>Desviación estándar del error</th>\n",
       "    </tr>\n",
       "    <tr>\n",
       "      <th>Numero de vecinos</th>\n",
       "      <th></th>\n",
       "      <th></th>\n",
       "    </tr>\n",
       "  </thead>\n",
       "  <tbody>\n",
       "    <tr>\n",
       "      <th>1</th>\n",
       "      <td></td>\n",
       "      <td></td>\n",
       "    </tr>\n",
       "    <tr>\n",
       "      <th>2</th>\n",
       "      <td>0.3630</td>\n",
       "      <td>0.0061</td>\n",
       "    </tr>\n",
       "    <tr>\n",
       "      <th>3</th>\n",
       "      <td></td>\n",
       "      <td></td>\n",
       "    </tr>\n",
       "    <tr>\n",
       "      <th>4</th>\n",
       "      <td></td>\n",
       "      <td></td>\n",
       "    </tr>\n",
       "    <tr>\n",
       "      <th>5</th>\n",
       "      <td></td>\n",
       "      <td></td>\n",
       "    </tr>\n",
       "    <tr>\n",
       "      <th>6</th>\n",
       "      <td></td>\n",
       "      <td></td>\n",
       "    </tr>\n",
       "    <tr>\n",
       "      <th>7</th>\n",
       "      <td></td>\n",
       "      <td></td>\n",
       "    </tr>\n",
       "    <tr>\n",
       "      <th>100</th>\n",
       "      <td></td>\n",
       "      <td></td>\n",
       "    </tr>\n",
       "  </tbody>\n",
       "</table>\n",
       "</div>"
      ],
      "text/plain": [
       "                  Error_Prueba Desviación estándar del error\n",
       "Numero de vecinos                                           \n",
       "1                                                           \n",
       "2                       0.3630                        0.0061\n",
       "3                                                           \n",
       "4                                                           \n",
       "5                                                           \n",
       "6                                                           \n",
       "7                                                           \n",
       "100                                                         "
      ]
     },
     "execution_count": 82,
     "metadata": {},
     "output_type": "execute_result"
    }
   ],
   "source": [
    "qgrid_widget.get_changed_df()"
   ]
  },
  {
   "cell_type": "markdown",
   "metadata": {},
   "source": [
    "## Ejercicio 5\n",
    "\n",
    "Ahora debe resolver el mismo problema de regresión, pero con el modelo de ventana de Parzen.\n",
    "\n",
    "Para el problema de regresión debe completar el código para implementar la función Nadaraya-Watson.\n",
    "\n",
    "Nota: Los métodos dist_euclidiana y ECM continuan siendo válidos para el modelo ventana de Parzen.\n"
   ]
  },
  {
   "cell_type": "code",
   "execution_count": 11,
   "metadata": {},
   "outputs": [],
   "source": [
    "def kernel_gaussiano(x):\n",
    "    return (np.exp((-0.5)*x**2))\n",
    "\n",
    "def U(D,h):\n",
    "    return D/h;\n",
    "\n",
    "def Nadaraya_Watson(X_train, Y_train, X_test, ancho_h):\n",
    "    \n",
    "    h = ancho_h    #Parámetro h que equivale al ancho de la ventana o kernel\n",
    "    \n",
    "    #Matriz de distancia de las muestras nuevas con respecto a las muestras de entrenamiento (1500, 3500)\n",
    "    D = distance(X_test, X_train)\n",
    "    \n",
    "    #Tamaño de muestras de validación\n",
    "    N = len(X_test)\n",
    "    \n",
    "    #Asignación de peso\n",
    "    u = U(D,h)\n",
    "    ku = kernel_gaussiano(u);\n",
    "\n",
    "    numerator = 0\n",
    "    denominator = 0\n",
    "    \n",
    "    Yest = np.zeros(N)\n",
    "    \n",
    "    for i in range(N):\n",
    "        numerator = numerator + np.dot(ku[i,:],Y_train)\n",
    "        denominator = denominator +np.sum(ku[i,:])\n",
    "        v =  numerator/denominator     \n",
    "        Yest[i] = numerator/denominator\n",
    "    return (Yest)         \n",
    "#Debe retornar un vector que contenga las predicciones para cada una de las muestras en X_val, en el mismo orden.  \n"
   ]
  },
  {
   "cell_type": "code",
   "execution_count": 12,
   "metadata": {},
   "outputs": [],
   "source": [
    "def DistributionPW(h=0.9):\n",
    "    #Validamos el modelo\n",
    "    random.seed(1)\n",
    "    Error = np.zeros(2)\n",
    "    for j in range(2):\n",
    "        ind=np.random.permutation(N)\n",
    "        Xtrain = X[ind[0:int(math.ceil(0.7*N))],:]\n",
    "        Xtest = X[ind[int(math.ceil(0.7*N)):N],:]\n",
    "        Ytrain = Y[ind[0:int(math.ceil(0.7*N))]]\n",
    "        Ytest = Y[ind[int(math.ceil(0.7*N)):N]]\n",
    "\n",
    "        #Normalizamos los datos\n",
    "        media = np.mean(Xtrain)\n",
    "        desvia = np.std(Xtrain)\n",
    "        Xtrain = stats.zscore(Xtrain)\n",
    "        Xtest = (Xtest - np.matlib.repmat(media, Xtest.shape[0], 1))/np.matlib.repmat(desvia, Xtest.shape[0], 1)\n",
    "\n",
    "        Yest = Nadaraya_Watson(Xtrain,Ytrain,Xtest,h)\n",
    "        #print(\"est \", Yest.shape)\n",
    "        #print(\"test \" ,Ytest.shape)\n",
    "        \n",
    "        #Evaluamos las predicciones del modelo con los datos de test\n",
    "        Error[j] = MAPE(Yest,Ytest)\n",
    "    print('\\nError durante la prueba = ' + str(np.mean(Error)) + ' +- ' + str(np.std(Error)))\n"
   ]
  },
  {
   "cell_type": "code",
   "execution_count": 13,
   "metadata": {},
   "outputs": [
    {
     "name": "stdout",
     "output_type": "stream",
     "text": [
      "********* Ancho de la ventana=  0.1\n",
      "\n",
      "Error durante la prueba = 0.29378582038574386 +- 0.007343846263024756\n",
      "\n",
      "\n",
      "********* Ancho de la ventana=  0.9\n",
      "\n",
      "Error durante la prueba = 0.30814442632166084 +- 0.0023021119456434758\n",
      "\n",
      "\n",
      "********* Ancho de la ventana=  1\n",
      "\n",
      "Error durante la prueba = 0.3134640815788942 +- 0.0025912922482769774\n",
      "\n",
      "\n",
      "********* Ancho de la ventana=  2\n",
      "\n",
      "Error durante la prueba = 0.31032729001674075 +- 0.0037150426902124167\n",
      "\n",
      "\n",
      "********* Ancho de la ventana=  3\n",
      "\n",
      "Error durante la prueba = 0.301617602998696 +- 0.004295693925191274\n",
      "\n",
      "\n",
      "********* Ancho de la ventana=  5\n",
      "\n",
      "Error durante la prueba = 0.2671900843475379 +- 0.0016817695162297808\n",
      "\n",
      "\n",
      "********* Ancho de la ventana=  10\n",
      "\n",
      "Error durante la prueba = 2.1832175968152914 +- 0.15464536360487746\n",
      "\n",
      "\n"
     ]
    }
   ],
   "source": [
    "parzenW_h = [0.1,0.9,1,2,3,5,10]\n",
    "for i in parzenW_h:\n",
    "    print(\"********* Ancho de la ventana= \",i)\n",
    "    DistributionPW(i)\n",
    "    print(\"\\n\")"
   ]
  },
  {
   "cell_type": "markdown",
   "metadata": {},
   "source": [
    "## Ejercicio 6\n",
    "\n",
    "Una vez haya completado el codigo del método de Ventana de Parzen, ejecute varias veces el proceso de entrenamiento y evaluacion cambiando el parametro $h$, el cual es el ancho de la función kernel, y complete la siguiente tabla con los valores del error MAPE obtenidos:"
   ]
  },
  {
   "cell_type": "markdown",
   "metadata": {},
   "source": [
    "#### Tabla de resultados"
   ]
  },
  {
   "cell_type": "code",
   "execution_count": 47,
   "metadata": {},
   "outputs": [
    {
     "data": {
      "application/vnd.jupyter.widget-view+json": {
       "model_id": "a44d339913924ebdacff83082106e1b0",
       "version_major": 2,
       "version_minor": 0
      },
      "text/plain": [
       "QgridWidget(grid_options={'fullWidthRows': True, 'syncColumnCellResize': True, 'forceFitColumns': True, 'defau…"
      ]
     },
     "metadata": {},
     "output_type": "display_data"
    }
   ],
   "source": [
    "randn = np.random.randn\n",
    "df_types2 = pd.DataFrame({\n",
    "    'Ancho del kernel' : pd.Series(['0.1', '0.9', '1', '2', '3', '5', '10'])})\n",
    "df_types2[\"Error_Prueba\"] = \"\"\n",
    "df_types2[\"Desviación estándar del error\"] = \"\"\n",
    "df_types2.set_index(['Ancho del kernel'], inplace=True)\n",
    "df_types2[\"Error_Prueba\"][1] = \"0.3011\"\n",
    "df_types2[\"Desviación estándar del error\"][1] = \"0.0031\"\n",
    "#df_types.sort_index(inplace=True)\n",
    "qgrid_widget = qgrid.show_grid(df_types2, show_toolbar=False)\n",
    "qgrid_widget"
   ]
  },
  {
   "cell_type": "markdown",
   "metadata": {},
   "source": [
    "Ejecute la siguiente instrucción para dejar guardados en el notebook los resultados de las pruebas."
   ]
  },
  {
   "cell_type": "code",
   "execution_count": 99,
   "metadata": {},
   "outputs": [
    {
     "data": {
      "text/html": [
       "<div>\n",
       "<style scoped>\n",
       "    .dataframe tbody tr th:only-of-type {\n",
       "        vertical-align: middle;\n",
       "    }\n",
       "\n",
       "    .dataframe tbody tr th {\n",
       "        vertical-align: top;\n",
       "    }\n",
       "\n",
       "    .dataframe thead th {\n",
       "        text-align: right;\n",
       "    }\n",
       "</style>\n",
       "<table border=\"1\" class=\"dataframe\">\n",
       "  <thead>\n",
       "    <tr style=\"text-align: right;\">\n",
       "      <th></th>\n",
       "      <th>Error_Prueba</th>\n",
       "      <th>Desviación estándar del error</th>\n",
       "    </tr>\n",
       "    <tr>\n",
       "      <th>Ancho del kernel</th>\n",
       "      <th></th>\n",
       "      <th></th>\n",
       "    </tr>\n",
       "  </thead>\n",
       "  <tbody>\n",
       "    <tr>\n",
       "      <th>0.1</th>\n",
       "      <td></td>\n",
       "      <td></td>\n",
       "    </tr>\n",
       "    <tr>\n",
       "      <th>0.9</th>\n",
       "      <td>0.3011</td>\n",
       "      <td>0.0031</td>\n",
       "    </tr>\n",
       "    <tr>\n",
       "      <th>1</th>\n",
       "      <td></td>\n",
       "      <td></td>\n",
       "    </tr>\n",
       "    <tr>\n",
       "      <th>2</th>\n",
       "      <td></td>\n",
       "      <td></td>\n",
       "    </tr>\n",
       "    <tr>\n",
       "      <th>3</th>\n",
       "      <td></td>\n",
       "      <td></td>\n",
       "    </tr>\n",
       "    <tr>\n",
       "      <th>5</th>\n",
       "      <td></td>\n",
       "      <td></td>\n",
       "    </tr>\n",
       "    <tr>\n",
       "      <th>10</th>\n",
       "      <td></td>\n",
       "      <td></td>\n",
       "    </tr>\n",
       "  </tbody>\n",
       "</table>\n",
       "</div>"
      ],
      "text/plain": [
       "                 Error_Prueba Desviación estándar del error\n",
       "Ancho del kernel                                           \n",
       "0.1                                                        \n",
       "0.9                    0.3011                        0.0031\n",
       "1                                                          \n",
       "2                                                          \n",
       "3                                                          \n",
       "5                                                          \n",
       "10                                                         "
      ]
     },
     "execution_count": 99,
     "metadata": {},
     "output_type": "execute_result"
    }
   ],
   "source": [
    "qgrid_widget.get_changed_df()"
   ]
  },
  {
   "cell_type": "markdown",
   "metadata": {},
   "source": [
    "Responda:\n",
    "\n",
    "6.1 Si intenta repetir la prueba anterior para un $h = 0.05$ el algoritmo falla. ¿Cuál es la causa de la falla?:\n",
    "\n",
    "El ancho de la ventana es muy pequeño, como consecuencia la estimación presenta un sobreajuste con variaciones bruscas\n",
    "\n",
    "6.2 ¿Cómo evito que se presente la excepción?:\n",
    "\n",
    "Validar desde el algoritmo el h que entra por parámetro"
   ]
  },
  {
   "cell_type": "code",
   "execution_count": null,
   "metadata": {},
   "outputs": [],
   "source": []
  }
 ],
 "metadata": {
  "kernelspec": {
   "display_name": "Python 3",
   "language": "python",
   "name": "python3"
  },
  "language_info": {
   "codemirror_mode": {
    "name": "ipython",
    "version": 3
   },
   "file_extension": ".py",
   "mimetype": "text/x-python",
   "name": "python",
   "nbconvert_exporter": "python",
   "pygments_lexer": "ipython3",
   "version": "3.6.5"
  }
 },
 "nbformat": 4,
 "nbformat_minor": 2
}
