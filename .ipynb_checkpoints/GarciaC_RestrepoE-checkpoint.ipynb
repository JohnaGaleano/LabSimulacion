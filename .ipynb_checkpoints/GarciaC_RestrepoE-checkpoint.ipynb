{
 "cells": [
  {
   "cell_type": "markdown",
   "metadata": {},
   "source": [
    "# Laboratorio 4 Parte 2\n",
    "\n",
    "### Redes Neuronales Recurrentes - Self Orgnanizing Maps \n",
    "\n",
    "### Universidad de Antioquia\n",
    "\n",
    "### Facultad de Ingeniería\n",
    "\n",
    "### Ingeniería de Sistemas\n",
    "\n",
    "### UdeA - 2018-II\n",
    "\n",
    "#### Profesor: Antonio Tamayo Herrera"
   ]
  },
  {
   "cell_type": "markdown",
   "metadata": {},
   "source": [
    "### Estudiantes\n",
    "\n",
    "Nombre: Carlos Andrés García Montoya\n",
    "\n",
    "Tip: 1036956885\n",
    "    \n",
    "Nombre: Esteban Restrepo Restrepo\n",
    "\n",
    "Tip: 1036957662"
   ]
  },
  {
   "cell_type": "markdown",
   "metadata": {},
   "source": [
    "## Guía del laboratorio\n",
    "\n",
    "En esta archivo va a encontrar tanto celdas de código cómo celdas de texto con las instrucciones para desarrollar el laboratorio.\n",
    "\n",
    "Lea atentamente las instrucciones entregadas en las celdas de texto correspondientes y proceda con la solución de las preguntas planteadas.\n",
    "\n",
    "Nota: no olvide ir ejecutando las celdas de código de arriba hacia abajo para que no tenga errores de importación de librerías o por falta de definición de variables."
   ]
  },
  {
   "cell_type": "markdown",
   "metadata": {},
   "source": [
    "## Indicaciones\n",
    "\n",
    "Este ejercicio tiene como objetivo implementar una red neuronal artificial bajo la arquitectura feed-forward network o perceptrón multicapa (MLP) para resolver un problema de predicción y compararlo con una red neuronal recurrente (Elman), tanto en costo computacional como en eficiencia en la predicción."
   ]
  },
  {
   "cell_type": "markdown",
   "metadata": {},
   "source": [
    "### Ejercicio 1 - (RNN vs. Perceptrón Multicapa)\n",
    "\n",
    "En las siguientes celdas, complete el código donde le sea indicado. Consulte la documentación oficial de neurolab para las arquitecturas propuestas aquí: \n",
    "\n",
    "https://pythonhosted.org/neurolab/index.html\n"
   ]
  },
  {
   "cell_type": "code",
   "execution_count": 6,
   "metadata": {},
   "outputs": [],
   "source": [
    "from __future__ import division\n",
    "\n",
    "import numpy as np\n",
    "import matplotlib.pyplot as plt\n",
    "import neurolab as nl\n",
    "import time\n",
    "\n",
    "#creamos los datos para probar las redes\n",
    "i1 = np.sin(np.arange(0, 20))\n",
    "i2 = np.sin(np.arange(0, 20)) * 2\n",
    "\n",
    "t1 = np.ones([1, 20])\n",
    "t2 = np.ones([1, 20]) * 2\n",
    "\n",
    "entrada = np.array([i1, i2, i1, i2]).reshape(20 * 4, 1)\n",
    "target = np.array([t1, t2, t1, t2]).reshape(20 * 4, 1)\n",
    "\n",
    "ent_train = entrada[0:70]\n",
    "ent_test = entrada[70:]\n",
    "\n",
    "\n",
    "target_train = target[0:70]\n",
    "target_test = target[70:]\n"
   ]
  },
  {
   "cell_type": "code",
   "execution_count": 26,
   "metadata": {},
   "outputs": [
    {
     "name": "stdout",
     "output_type": "stream",
     "text": [
      "Epoch: 5; Error: 22.031412415450017;\n",
      "Epoch: 10; Error: 5.058013809799253;\n",
      "Epoch: 15; Error: 4.700019588225879;\n",
      "Epoch: 20; Error: 4.521240167561213;\n",
      "Epoch: 25; Error: 4.457344191506428;\n",
      "Epoch: 30; Error: 4.284067050503721;\n",
      "Epoch: 35; Error: 3.910504120883315;\n",
      "Epoch: 40; Error: 3.5785604806301126;\n",
      "Epoch: 45; Error: 3.3217110872191764;\n",
      "Epoch: 50; Error: 3.2134744133152564;\n",
      "Epoch: 55; Error: 3.103674846569141;\n",
      "Epoch: 60; Error: 3.0005139815673285;\n",
      "Epoch: 65; Error: 2.9469524439890127;\n",
      "Epoch: 70; Error: 2.9332809454205204;\n",
      "Epoch: 75; Error: 2.906943975851686;\n",
      "Epoch: 80; Error: 2.8644802751752225;\n",
      "Epoch: 85; Error: 2.7941955337440585;\n",
      "Epoch: 90; Error: 2.68195465230779;\n",
      "Epoch: 95; Error: 2.6099898245201922;\n",
      "Epoch: 100; Error: 2.6018923883394014;\n",
      "Epoch: 105; Error: 2.5962245358227225;\n",
      "Epoch: 110; Error: 2.59290393002318;\n",
      "Epoch: 115; Error: 2.569392602638529;\n",
      "Epoch: 120; Error: 2.5497717265563096;\n",
      "Epoch: 125; Error: 2.539826455874608;\n",
      "Epoch: 130; Error: 2.5233353103822918;\n",
      "Epoch: 135; Error: 2.5114381547839395;\n",
      "Epoch: 140; Error: 2.506852601924956;\n",
      "Epoch: 145; Error: 2.499466194182967;\n",
      "Epoch: 150; Error: 2.4745183342691757;\n",
      "Epoch: 155; Error: 2.4452207944264233;\n",
      "Epoch: 160; Error: 2.408782496618967;\n",
      "Epoch: 165; Error: 2.3803845506330403;\n",
      "Epoch: 170; Error: 2.3672798605395444;\n",
      "Epoch: 175; Error: 2.301556122473367;\n",
      "Epoch: 180; Error: 2.176960476897667;\n",
      "Epoch: 185; Error: 2.1518274280478447;\n",
      "Epoch: 190; Error: 2.1482071857002762;\n",
      "Epoch: 195; Error: 2.1402032820224473;\n",
      "Epoch: 200; Error: 2.12982582181508;\n",
      "Epoch: 205; Error: 2.1219598942194433;\n",
      "Epoch: 210; Error: 2.1180493921038126;\n",
      "Epoch: 215; Error: 2.107066114242718;\n",
      "Epoch: 220; Error: 2.096194622846273;\n",
      "Epoch: 225; Error: 2.0768385871026585;\n",
      "Epoch: 230; Error: 2.0452780420391212;\n",
      "Epoch: 235; Error: 2.0263704953181505;\n",
      "Epoch: 240; Error: 1.990246264380013;\n",
      "Epoch: 245; Error: 1.9614385262926946;\n",
      "Epoch: 250; Error: 1.9486286200375278;\n",
      "Epoch: 255; Error: 1.9420516458356303;\n",
      "Epoch: 260; Error: 1.9286291768864796;\n",
      "Epoch: 265; Error: 1.915774193261746;\n",
      "Epoch: 270; Error: 1.8805935159946494;\n",
      "Epoch: 275; Error: 1.8641902917026727;\n",
      "Epoch: 280; Error: 1.8565804901345992;\n",
      "Epoch: 285; Error: 1.8509627170927139;\n",
      "Epoch: 290; Error: 1.8473284272182293;\n",
      "Epoch: 295; Error: 1.845708653994171;\n",
      "Epoch: 300; Error: 1.8443647548648305;\n",
      "Epoch: 305; Error: 1.8437556190987043;\n",
      "Epoch: 310; Error: 1.8436434163093938;\n",
      "Epoch: 315; Error: 1.8436326946832837;\n",
      "Epoch: 320; Error: 1.8435790146846505;\n",
      "Epoch: 325; Error: 1.8434898593660898;\n",
      "Epoch: 330; Error: 1.843416347985491;\n",
      "Epoch: 335; Error: 1.8432485638382188;\n",
      "Epoch: 340; Error: 1.8431068619068582;\n",
      "Epoch: 345; Error: 1.8429671149601572;\n",
      "Epoch: 350; Error: 1.842886297232894;\n",
      "Epoch: 355; Error: 1.8427702582130725;\n",
      "Epoch: 360; Error: 1.8426795958651219;\n",
      "Epoch: 365; Error: 1.8425764861539542;\n",
      "Epoch: 370; Error: 1.8425025022301513;\n",
      "Epoch: 375; Error: 1.8424337440164178;\n",
      "Epoch: 380; Error: 1.8423591529120824;\n",
      "Epoch: 385; Error: 1.8422828271340188;\n",
      "Epoch: 390; Error: 1.8422164517517718;\n",
      "Epoch: 395; Error: 1.8421724945551101;\n",
      "Epoch: 400; Error: 1.8421346130317715;\n",
      "Epoch: 405; Error: 1.8421105836595293;\n",
      "Epoch: 410; Error: 1.8420968800359254;\n",
      "Epoch: 415; Error: 1.8420920854170886;\n",
      "Epoch: 420; Error: 1.842089350026744;\n",
      "Epoch: 425; Error: 1.8420889105002063;\n",
      "Epoch: 430; Error: 1.8420888956958597;\n",
      "Epoch: 435; Error: 1.8420888743552792;\n",
      "Epoch: 440; Error: 1.8420885353431684;\n",
      "Epoch: 445; Error: 1.842085673450894;\n",
      "Epoch: 450; Error: 1.84207606039731;\n",
      "Epoch: 455; Error: 1.8420666012951763;\n",
      "Epoch: 460; Error: 1.8420664130441662;\n",
      "Epoch: 465; Error: 1.8420660404028242;\n",
      "Epoch: 470; Error: 1.8420654524346112;\n",
      "Epoch: 475; Error: 1.8420654163641466;\n",
      "Epoch: 480; Error: 1.8420654143417718;\n",
      "Epoch: 485; Error: 1.8420653757089147;\n",
      "Epoch: 490; Error: 1.842065018643689;\n",
      "Epoch: 495; Error: 1.8420642628843136;\n",
      "Epoch: 500; Error: 1.8420617951953318;\n",
      "Epoch: 505; Error: 1.84205967815944;\n",
      "Epoch: 510; Error: 1.842059042045879;\n",
      "Epoch: 515; Error: 1.8420555499150808;\n",
      "Epoch: 520; Error: 1.8420450932009056;\n",
      "Epoch: 525; Error: 1.84203699455746;\n",
      "Epoch: 530; Error: 1.84203262830471;\n",
      "Epoch: 535; Error: 1.8420216992380536;\n",
      "Epoch: 540; Error: 1.8420207324661022;\n",
      "Epoch: 545; Error: 1.842018781228348;\n",
      "Epoch: 550; Error: 1.8420180493143457;\n",
      "Epoch: 555; Error: 1.8420174737147688;\n",
      "Epoch: 560; Error: 1.8420162894929448;\n",
      "Epoch: 565; Error: 1.8420133354226416;\n",
      "Epoch: 570; Error: 1.842009072186939;\n",
      "Epoch: 575; Error: 1.8420012294991737;\n",
      "Epoch: 580; Error: 1.8419904562024596;\n",
      "Epoch: 585; Error: 1.8419770127212847;\n",
      "Epoch: 590; Error: 1.8419608802073604;\n",
      "Epoch: 595; Error: 1.841952408857616;\n",
      "Epoch: 600; Error: 1.8419509150726046;\n",
      "Epoch: 605; Error: 1.8419500681501784;\n",
      "Epoch: 610; Error: 1.8419488465604892;\n",
      "Epoch: 615; Error: 1.8419487365446006;\n",
      "Epoch: 620; Error: 1.8419475854773348;\n",
      "Epoch: 625; Error: 1.8419406935732854;\n",
      "Epoch: 630; Error: 1.8419344570041571;\n",
      "Epoch: 635; Error: 1.8419306815238492;\n",
      "Epoch: 640; Error: 1.8419258781897276;\n",
      "Epoch: 645; Error: 1.8419213605279952;\n",
      "Epoch: 650; Error: 1.8419187877444645;\n",
      "Epoch: 655; Error: 1.8419145230929175;\n",
      "Epoch: 660; Error: 1.8419079070590922;\n",
      "Epoch: 665; Error: 1.8419017361377505;\n",
      "Epoch: 670; Error: 1.841892084869253;\n",
      "Epoch: 675; Error: 1.8418816662546988;\n",
      "Epoch: 680; Error: 1.8418688875213403;\n",
      "Epoch: 685; Error: 1.8418611250681745;\n",
      "Epoch: 690; Error: 1.8418597019165972;\n",
      "Epoch: 695; Error: 1.8418589687413587;\n",
      "Epoch: 700; Error: 1.8418582959775083;\n",
      "Epoch: 705; Error: 1.8418579098618502;\n",
      "Epoch: 710; Error: 1.8418561230159516;\n",
      "Epoch: 715; Error: 1.8418494110973729;\n",
      "Epoch: 720; Error: 1.8418432604896127;\n",
      "Epoch: 725; Error: 1.8418388060513275;\n",
      "Epoch: 730; Error: 1.8418329254839907;\n",
      "Epoch: 735; Error: 1.841826934207865;\n",
      "Epoch: 740; Error: 1.84182256491088;\n",
      "Epoch: 745; Error: 1.8418129507791765;\n",
      "Epoch: 750; Error: 1.8418006022960018;\n",
      "Epoch: 755; Error: 1.8417870478967333;\n",
      "Epoch: 760; Error: 1.8417822539073994;\n",
      "Epoch: 765; Error: 1.8417812205601958;\n",
      "Epoch: 770; Error: 1.8417804628406502;\n",
      "Epoch: 775; Error: 1.8417748484155845;\n",
      "Epoch: 780; Error: 1.841768266473271;\n",
      "Epoch: 785; Error: 1.8417619760546236;\n",
      "Epoch: 790; Error: 1.8417567379215731;\n",
      "Epoch: 795; Error: 1.8417512917744518;\n",
      "Epoch: 800; Error: 1.8417470659348318;\n",
      "Epoch: 805; Error: 1.8417423375300808;\n",
      "Epoch: 810; Error: 1.8417405666305435;\n",
      "Epoch: 815; Error: 1.8417387142448634;\n",
      "Epoch: 820; Error: 1.841727853787332;\n",
      "Epoch: 825; Error: 1.8417033687197104;\n",
      "Epoch: 830; Error: 1.8416875540745175;\n",
      "Epoch: 835; Error: 1.8416783618067738;\n",
      "Epoch: 840; Error: 1.8416691322235768;\n",
      "Epoch: 845; Error: 1.8416558582325526;\n",
      "Epoch: 850; Error: 1.8416390055359628;\n",
      "Epoch: 855; Error: 1.841616306069161;\n",
      "Epoch: 860; Error: 1.8415649785500783;\n",
      "Epoch: 865; Error: 1.8414557416672686;\n",
      "Epoch: 870; Error: 1.8414273685150233;\n",
      "Epoch: 875; Error: 1.8413999460033266;\n",
      "Epoch: 880; Error: 1.8413979865031704;\n",
      "Epoch: 885; Error: 1.841379775345685;\n",
      "Epoch: 890; Error: 1.8411664016005869;\n",
      "Epoch: 895; Error: 1.8410288205821113;\n",
      "Epoch: 900; Error: 1.8409631149890164;\n",
      "Epoch: 905; Error: 1.8409040346363033;\n",
      "Epoch: 910; Error: 1.840877298572302;\n",
      "Epoch: 915; Error: 1.8408598607277233;\n",
      "Epoch: 920; Error: 1.8407640945190338;\n",
      "Epoch: 925; Error: 1.8406856706066947;\n",
      "Epoch: 930; Error: 1.8405831953411047;\n",
      "Epoch: 935; Error: 1.8405519919934532;\n",
      "Epoch: 940; Error: 1.8405440335812442;\n",
      "Epoch: 945; Error: 1.8405405376497972;\n",
      "Epoch: 950; Error: 1.8404942977107686;\n",
      "Epoch: 955; Error: 1.8403468611296203;\n",
      "Epoch: 960; Error: 1.8402525146482815;\n",
      "Epoch: 965; Error: 1.8402371743756185;\n",
      "Epoch: 970; Error: 1.8401845057305066;\n",
      "Epoch: 975; Error: 1.840149213506015;\n",
      "Epoch: 980; Error: 1.8401241102104204;\n",
      "Epoch: 985; Error: 1.8401077906926475;\n",
      "Epoch: 990; Error: 1.8401041162441143;\n",
      "Epoch: 995; Error: 1.8400867987111018;\n",
      "Epoch: 1000; Error: 1.840077697773887;\n",
      "The maximum number of train epochs is reached\n",
      "Error=  1.840077697773887\n"
     ]
    },
    {
     "data": {
      "image/png": "[encoded data removed]",
      "text/plain": [
       "<Figure size 432x288 with 1 Axes>"
      ]
     },
     "metadata": {},
     "output_type": "display_data"
    },
    {
     "data": {
      "image/png": "[encoded data removed]",
      "text/plain": [
       "<Figure size 432x288 with 1 Axes>"
      ]
     },
     "metadata": {},
     "output_type": "display_data"
    },
    {
     "name": "stdout",
     "output_type": "stream",
     "text": [
      "Costo computacional:  5.854582786560059  s\n"
     ]
    }
   ],
   "source": [
    "#Probando con una red neuronal Feed Forward (Perceptrón multicapa)\n",
    "\n",
    "ti = time.time()\n",
    "\n",
    "# Create network with 2 layers\n",
    "net = nl.net.newff([[-1.999980413101407, 1.9812147113897407]] ,[10,1],transf=[nl.trans.TanSig(),nl.trans.PureLin()] )\n",
    "# Train network\n",
    "error = net.train(ent_train,target_train, epochs = 1000, show =5)\n",
    "# Simulate network\n",
    "output = net.sim(ent_test)\n",
    "\n",
    "print('Error= ', error[-1])\n",
    "plt.plot(error)\n",
    "plt.xlabel('Número de épocas')\n",
    "plt.ylabel('Error de entrenamiento')\n",
    "plt.show()\n",
    "\n",
    "plt.subplot(212)\n",
    "plt.plot(target_test.reshape(10))\n",
    "plt.plot(output.reshape(10))\n",
    "plt.legend([' Teórico', 'Predicho'])\n",
    "plt.show()\n",
    "\n",
    "print('Costo computacional: ', time.time()-ti, ' s')\n"
   ]
  },
  {
   "cell_type": "code",
   "execution_count": 28,
   "metadata": {},
   "outputs": [
    {
     "name": "stdout",
     "output_type": "stream",
     "text": [
      "Epoch: 100; Error: 0.25014233967670585;\n",
      "Epoch: 200; Error: 0.07293470405638791;\n",
      "Epoch: 300; Error: 0.07776823931934951;\n",
      "Epoch: 400; Error: 0.07341355473842401;\n",
      "Epoch: 500; Error: 0.07837541302126771;\n",
      "Epoch: 600; Error: 0.08352960359083832;\n",
      "Epoch: 700; Error: 0.03873683028250093;\n",
      "Epoch: 800; Error: 0.03091143710105827;\n",
      "Epoch: 900; Error: 0.025845588986996577;\n",
      "Epoch: 1000; Error: 0.022263444951820872;\n",
      "The maximum number of train epochs is reached\n",
      "Error =  0.022263444951820872\n"
     ]
    },
    {
     "data": {
      "image/png": "[encoded data removed]",
      "text/plain": [
       "<Figure size 432x288 with 1 Axes>"
      ]
     },
     "metadata": {},
     "output_type": "display_data"
    },
    {
     "data": {
      "image/png": "[encoded data removed]",
      "text/plain": [
       "<Figure size 432x288 with 1 Axes>"
      ]
     },
     "metadata": {},
     "output_type": "display_data"
    },
    {
     "name": "stdout",
     "output_type": "stream",
     "text": [
      "Costo computacional:  5.155209302902222  s\n"
     ]
    }
   ],
   "source": [
    "#Probando con una red neuronal Recurrente (Elman)\n",
    "\n",
    "ti = time.time()\n",
    "\n",
    "# Create network with 2 layers\n",
    "net = nl.net.newelm([[-1.999980413101407, 1.9812147113897407]], [6, 1], [nl.trans.TanSig(), nl.trans.PureLin()])\n",
    "# Set initialized functions and init\n",
    "net.layers[0].initf = nl.init.InitRand([-0.1, 0.1], 'wb')\n",
    "net.layers[1].initf= nl.init.InitRand([-0.1, 0.1], 'wb')\n",
    "net.init()\n",
    "\n",
    "# Train network\n",
    "error = net.train(entrada, target, epochs=1000, show=100, goal=0.01)\n",
    "# Simulate network\n",
    "output = net.sim(ent_test)## Verificar parámetro\n",
    "\n",
    "#print (target, output)\n",
    "\n",
    "print('Error = ', error[-1])\n",
    "plt.plot(error)\n",
    "plt.xlabel('Número de épocas')\n",
    "plt.ylabel('Error de entrenamiento')\n",
    "plt.show()\n",
    "\n",
    "plt.subplot(212)\n",
    "plt.plot(target_test.reshape(10))\n",
    "plt.plot(output.reshape(10))\n",
    "plt.legend(['Teórico', 'Predicho'])\n",
    "plt.show()\n",
    "\n",
    "print('Costo computacional: ', time.time()-ti, ' s')"
   ]
  },
  {
   "cell_type": "markdown",
   "metadata": {},
   "source": [
    "Variando el número de neuronas en la capa oculta de ambas arquitecturas (MLP y RNN), y el número de épocas, complete las siguientes tablas:"
   ]
  },
  {
   "cell_type": "markdown",
   "metadata": {},
   "source": [
    "<center>\n",
    "    Perceptrón Multicapa\n",
    "</center>\n",
    "<table>\n",
    "  <tr>\n",
    "    <th># de Epocas</th>\n",
    "    <th># Neuronas en capa oculta</th>\n",
    "    <th>Error de validación</th>\n",
    "    <th>Tiempo de ejecución</th>\n",
    "  </tr>\n",
    "  <tr>\n",
    "    <td>500</td>\n",
    "    <td>2</td>\n",
    "    <td>6.88524667831757</td>\n",
    "    <td>0.47540903091430664  s</td>\n",
    "  </tr>\n",
    "  <tr>\n",
    "    <td>500</td>\n",
    "    <td>6</td>\n",
    "    <td>2.0762772849645152</td>\n",
    "    <td>3.3834786415100098  s</td>\n",
    "  </tr>\n",
    "  <tr>\n",
    "    <td>500</td>\n",
    "    <td>10</td>\n",
    "    <td>0.9356180133940025</td>\n",
    "    <td>3.0599136352539062  s</td>\n",
    "  </tr>\n",
    "  <tr>\n",
    "    <td>1000</td>\n",
    "    <td>2</td>\n",
    "    <td>5.308342710814879</td>\n",
    "    <td>1.8655049800872803  s</td>\n",
    "  </tr>\n",
    "  <tr>\n",
    "    <td>1000</td>\n",
    "    <td>6</td>\n",
    "    <td>3.0613252781711786</td>\n",
    "    <td>3.5814695358276367  s</td>\n",
    "  </tr>\n",
    "  <tr>\n",
    "    <td>1000</td>\n",
    "    <td>10</td>\n",
    "    <td>1.840077697773887</td>\n",
    "    <td>5.854582786560059  s</td>\n",
    "  </tr>\n",
    "</table>\n",
    "\n",
    "<center>\n",
    "    RNN (Elman)\n",
    "</center>\n",
    "<table>\n",
    "  <tr>\n",
    "    <th># de Epocas</th>\n",
    "    <th># Neuronas en capa oculta</th>\n",
    "    <th>Error de validación</th>\n",
    "    <th>Tiempo de ejecución</th>\n",
    "  </tr>\n",
    "  <tr>\n",
    "    <td>500</td>\n",
    "    <td>2</td>\n",
    "    <td>0.2520483122389036</td>\n",
    "    <td>2.4624109268188477  s</td>\n",
    "  </tr>\n",
    "  <tr>\n",
    "    <td>500</td>\n",
    "    <td>6</td>\n",
    "    <td>0.01870218254079732</td>\n",
    "    <td>2.659717321395874  s</td>\n",
    "  </tr>\n",
    "  <tr>\n",
    "    <td>500</td>\n",
    "    <td>10</td>\n",
    "    <td>0.05860444947381468</td>\n",
    "    <td>2.422031879425049  s</td>\n",
    "  </tr>\n",
    "  <tr>\n",
    "    <td>1000</td>\n",
    "    <td>2</td>\n",
    "    <td>0.20275693965426517</td>\n",
    "    <td>4.449769020080566  s</td>\n",
    "  </tr>\n",
    "  <tr>\n",
    "    <td>1000</td>\n",
    "    <td>6</td>\n",
    "    <td>0.014918969081217143</td>\n",
    "    <td> 5.348733425140381  s</td>\n",
    "  </tr>\n",
    "  <tr>\n",
    "    <td>1000</td>\n",
    "    <td>10</td>\n",
    "    <td>0.02027336833786967</td>\n",
    "    <td>4.691670894622803  s</td>\n",
    "  </tr>\n",
    "</table>\n"
   ]
  },
  {
   "cell_type": "markdown",
   "metadata": {},
   "source": [
    "1.1 De acuerdo a los resultados de la tabla anterior, ¿cuál modelo es más costoso computacionalmente y por qué?"
   ]
  },
  {
   "cell_type": "markdown",
   "metadata": {},
   "source": [
    "R/: Se puede observar que el modelo Elman se tarda un tiempo considerablemente más alto que el modelo Perceptrón Multicapa, esto se debe a que el modelo es recurente, por lo que se aumenta el costo computacional"
   ]
  },
  {
   "cell_type": "markdown",
   "metadata": {},
   "source": [
    "1.2 ¿Qué efecto observa al aumentar el número de neuronas en la capa oculta en ambos modelos? ¿por qué sucede eso?"
   ]
  },
  {
   "cell_type": "markdown",
   "metadata": {},
   "source": [
    "R/: Al aumentar el número de neuronas, también aumenta el costo computacional ligeramente ya que el algoritmo se va a requerir más recursos. Además, se nota una disminución breve en el error, ya que más neuronas van a realizar una mejor predicción"
   ]
  },
  {
   "cell_type": "markdown",
   "metadata": {},
   "source": [
    "1.3 ¿Cuál de las dos arquitecturas soluciona mejor el problema de predicción planteado? ¿por qué?"
   ]
  },
  {
   "cell_type": "markdown",
   "metadata": {},
   "source": [
    "R/: Obeservando las tablas se puede concluir que el modelo RNN (Elman) aunque es más costoso computacionalmenta da una mejor solución al problema, ya que en todas las ejecuciones el error generado es menor a 1, mientras que en el modelo de Perceptrón multicapa solo en una iteración obtuvo un error menor a 1"
   ]
  },
  {
   "cell_type": "markdown",
   "metadata": {},
   "source": [
    "### Ejercicio 2 (Self Organizing Maps -  Agrupamiento)"
   ]
  },
  {
   "cell_type": "markdown",
   "metadata": {},
   "source": [
    "Para el modelo SOM vamos a usar la librería Neupy. Corra una única vez la siguiente línea de código para realizar su instalación.\n",
    "Lea la documentación de la librería <a href=\"http://neupy.com/2017/12/09/sofm_applications.html#self-organizing-maps-and-applications\">aquí</a>, para que complete el código de las celdas siguientes, donde le sea indicado."
   ]
  },
  {
   "cell_type": "code",
   "execution_count": 1,
   "metadata": {},
   "outputs": [
    {
     "name": "stdout",
     "output_type": "stream",
     "text": [
      "Collecting neupy\n",
      "  Using cached https://files.pythonhosted.org/packages/e8/7f/612c1f41fa058a253a004d2fbc1b692450f0b1faf5d8af1e540d8fe15233/neupy-0.6.4.tar.gz\n",
      "Requirement already satisfied: numpy>=1.9.0 in c:\\users\\carlo\\anaconda3\\lib\\site-packages (from neupy) (1.14.3)\n",
      "Requirement already satisfied: scipy>=0.19.0 in c:\\users\\carlo\\anaconda3\\lib\\site-packages (from neupy) (1.1.0)\n",
      "Collecting Theano==1.0.0 (from neupy)\n",
      "  Using cached https://files.pythonhosted.org/packages/8d/74/99cc011153b3a566e98729cfee1b8b00af157e2b6047d23ee0871fd5e706/Theano-1.0.0.tar.gz\n",
      "Requirement already satisfied: matplotlib>=1.5.1 in c:\\users\\carlo\\anaconda3\\lib\\site-packages (from neupy) (2.2.2)\n",
      "Collecting graphviz==0.5.1 (from neupy)\n",
      "  Using cached https://files.pythonhosted.org/packages/55/8d/18e45d3f57adfde20ac831a5ba7144b9e643185e05eb0a02b6f22d076752/graphviz-0.5.1-py2.py3-none-any.whl\n",
      "Collecting tableprint==0.7.1 (from neupy)\n",
      "  Using cached https://files.pythonhosted.org/packages/b4/22/237af092c15d69b93857cb16bf180a650f51d07446a6119f1496c73d419c/tableprint-0.7.1.tar.gz\n",
      "Collecting progressbar2==3.34.3 (from neupy)\n",
      "  Using cached https://files.pythonhosted.org/packages/87/31/b984e17bcc7491c1baeda3906fe3abc14cb5cd5dbd046ab46d9fc7a2edfd/progressbar2-3.34.3-py2.py3-none-any.whl\n",
      "Requirement already satisfied: six>=1.9.0 in c:\\users\\carlo\\anaconda3\\lib\\site-packages (from Theano==1.0.0->neupy) (1.11.0)\n",
      "Requirement already satisfied: cycler>=0.10 in c:\\users\\carlo\\anaconda3\\lib\\site-packages (from matplotlib>=1.5.1->neupy) (0.10.0)\n",
      "Requirement already satisfied: pyparsing!=2.0.4,!=2.1.2,!=2.1.6,>=2.0.1 in c:\\users\\carlo\\anaconda3\\lib\\site-packages (from matplotlib>=1.5.1->neupy) (2.2.0)\n",
      "Requirement already satisfied: python-dateutil>=2.1 in c:\\users\\carlo\\anaconda3\\lib\\site-packages (from matplotlib>=1.5.1->neupy) (2.7.3)\n",
      "Requirement already satisfied: pytz in c:\\users\\carlo\\anaconda3\\lib\\site-packages (from matplotlib>=1.5.1->neupy) (2018.4)\n",
      "Requirement already satisfied: kiwisolver>=1.0.1 in c:\\users\\carlo\\anaconda3\\lib\\site-packages (from matplotlib>=1.5.1->neupy) (1.0.1)\n",
      "Collecting future (from tableprint==0.7.1->neupy)\n",
      "  Downloading https://files.pythonhosted.org/packages/00/2b/8d082ddfed935f3608cc61140df6dcbf0edea1bc3ab52fb6c29ae3e81e85/future-0.16.0.tar.gz (824kB)\n",
      "Requirement already satisfied: wcwidth in c:\\users\\carlo\\anaconda3\\lib\\site-packages (from tableprint==0.7.1->neupy) (0.1.7)\n",
      "Collecting python-utils>=2.1.0 (from progressbar2==3.34.3->neupy)\n",
      "  Downloading https://files.pythonhosted.org/packages/eb/a0/19119d8b7c05be49baf6c593f11c432d571b70d805f2fe94c0585e55e4c8/python_utils-2.3.0-py2.py3-none-any.whl\n",
      "Requirement already satisfied: setuptools in c:\\users\\carlo\\anaconda3\\lib\\site-packages (from kiwisolver>=1.0.1->matplotlib>=1.5.1->neupy) (39.1.0)\n",
      "Building wheels for collected packages: neupy, Theano, tableprint, future\n",
      "  Running setup.py bdist_wheel for neupy: started\n",
      "  Running setup.py bdist_wheel for neupy: finished with status 'done'\n",
      "  Stored in directory: C:\\Users\\carlo\\AppData\\Local\\pip\\Cache\\wheels\\57\\8d\\ba\\e1bd9ce274a6341b46a326dace1aa0306b0bb77f7e9d2b5224\n",
      "  Running setup.py bdist_wheel for Theano: started\n",
      "  Running setup.py bdist_wheel for Theano: finished with status 'done'\n",
      "  Stored in directory: C:\\Users\\carlo\\AppData\\Local\\pip\\Cache\\wheels\\f3\\09\\87\\48b9871203bd988f59421d9f46e06db5cca884a322d39a5eff\n",
      "  Running setup.py bdist_wheel for tableprint: started\n",
      "  Running setup.py bdist_wheel for tableprint: finished with status 'done'\n",
      "  Stored in directory: C:\\Users\\carlo\\AppData\\Local\\pip\\Cache\\wheels\\f3\\85\\50\\13fdeeb11b9453c850be1b5b964471e05d5b9454d8c3c56e76\n",
      "  Running setup.py bdist_wheel for future: started\n",
      "  Running setup.py bdist_wheel for future: finished with status 'done'\n",
      "  Stored in directory: C:\\Users\\carlo\\AppData\\Local\\pip\\Cache\\wheels\\bf\\c9\\a3\\c538d90ef17cf7823fa51fc701a7a7a910a80f6a405bf15b1a\n",
      "Successfully built neupy Theano tableprint future\n",
      "Installing collected packages: Theano, graphviz, future, tableprint, python-utils, progressbar2, neupy\n",
      "Successfully installed Theano-1.0.0 future-0.16.0 graphviz-0.5.1 neupy-0.6.4 progressbar2-3.34.3 python-utils-2.3.0 tableprint-0.7.1\n"
     ]
    },
    {
     "name": "stderr",
     "output_type": "stream",
     "text": [
      "distributed 1.21.8 requires msgpack, which is not installed.\n",
      "You are using pip version 10.0.1, however version 18.1 is available.\n",
      "You should consider upgrading via the 'python -m pip install --upgrade pip' command.\n"
     ]
    }
   ],
   "source": [
    "!pip install neupy"
   ]
  },
  {
   "cell_type": "markdown",
   "metadata": {},
   "source": [
    "2.1 Conociendo el número de clases de la base de datos IRIS, en la siguiente celda complete el código, donde le sea indicado, para encontrar y graficar los centroides adecuados para ese problema de agrupamiento."
   ]
  },
  {
   "cell_type": "code",
   "execution_count": 22,
   "metadata": {},
   "outputs": [
    {
     "data": {
      "image/png": "[encoded data removed]",
      "text/plain": [
       "<Figure size 432x288 with 1 Axes>"
      ]
     },
     "metadata": {},
     "output_type": "display_data"
    }
   ],
   "source": [
    "from __future__ import division\n",
    "\n",
    "import numpy as np\n",
    "import matplotlib.pyplot as plt\n",
    "from sklearn import datasets\n",
    "from neupy import algorithms, environment\n",
    "\n",
    "plt.style.use('ggplot')\n",
    "environment.reproducible()\n",
    "\n",
    "ggplot_colors = plt.rcParams['axes.prop_cycle']\n",
    "colors = np.array([c['color'] for c in ggplot_colors])\n",
    "\n",
    "iris = datasets.load_iris()\n",
    "\n",
    "data = iris.data[:, [2, 3]]\n",
    "target = iris.target\n",
    "\n",
    "som = algorithms.SOFM(\n",
    "        # Use only two features for the input\n",
    "        n_inputs=2,\n",
    "\n",
    "        # Number of outputs defines number of features\n",
    "        # in the SOFM or in terms of clustering - number\n",
    "        # of clusters\n",
    "        \n",
    "        n_outputs=3,\n",
    "\n",
    "        # In clustering application we will prefer that\n",
    "        # clusters will be updated independently from each\n",
    "        # other. For this reason we set up learning radius\n",
    "        # equal to zero\n",
    "        learning_radius=2,\n",
    "\n",
    "        # Training step size or learning rate\n",
    "        step=0.25,\n",
    "\n",
    "        # Shuffles dataset before every training epoch.\n",
    "        shuffle_data=True,\n",
    "\n",
    "        # Instead of generating random weights\n",
    "        # (features / cluster centers) SOFM will sample\n",
    "        # them from the data. Which means that after\n",
    "        # initialization step 3 random data samples will\n",
    "        # become cluster centers\n",
    "        weight='sample_from_data',\n",
    "\n",
    "        # Shows training progress in terminal\n",
    "        verbose=False,\n",
    "    )\n",
    "\n",
    "som.train(data, epochs=200)\n",
    "\n",
    "plt.title('Agrupamiento de la base de datos IRIS con SOM')\n",
    "plt.xlabel('Feature #3')\n",
    "plt.ylabel('Feature #4')\n",
    "\n",
    "plt.scatter(*data.T, c=colors[target], s=100, alpha=1)\n",
    "cluster_centers = plt.scatter(*som.weight, s=300, c=colors[3])\n",
    "\n",
    "plt.legend([cluster_centers], ['Centro de los clusters'], loc='upper left')\n",
    "plt.show()"
   ]
  },
  {
   "cell_type": "markdown",
   "metadata": {},
   "source": [
    "2.2 Cambie el valor de la tasa de aprendizaje del modelo y póngalo en 2. Corra de nuevo la celda. ¿Qué observa y a qué se debe ese resultado?"
   ]
  },
  {
   "cell_type": "markdown",
   "metadata": {},
   "source": [
    "R/: Se observa que  uno de los centroides se dividió entre la clase azul y la clase morada, esto se debe a que al aumentar la taza de aprendizaje se incrementa el posible desplazamiento en cada paso para ir encontrando el error mínimo, lo que hace que para una taza de aprendizaje alta el error pueda aumentar y no se divida correctamente las clases. "
   ]
  },
  {
   "cell_type": "markdown",
   "metadata": {},
   "source": [
    "2.3 Cambie el valor del número de epocas y póngalo en 10, con un valor de tasa de aprendizaje de 0,25. Corra de nuevo la celda. ¿Qué observa y a qué se debe ese resultado?"
   ]
  },
  {
   "cell_type": "markdown",
   "metadata": {},
   "source": [
    "R/: Aunque la salida no es tan acertada como el caso con 200 épocas, se observa que se obtiene una buena distribución entre los centroides, lo que indica de manera aceptable la distribución de las clases."
   ]
  },
  {
   "cell_type": "markdown",
   "metadata": {},
   "source": [
    "2.4 Cambie el valor del learning radius a 1, y luego a 2. Corra de nuevo la celda. ¿Qué observa y a qué se debe ese resultado?"
   ]
  },
  {
   "cell_type": "markdown",
   "metadata": {},
   "source": [
    "R/: Cuando el radio de aprendizaje estaba en cero se obtuvieron las 3 salidas distribuidas aproximadamente en el centro de distribución de cada clase, al aumnetar el radio de aprendizaje se reduce la precisión, ya que cada salida va a tener en cuenta más datos o datos más lejanos, por lo que se observa que las salidas se desplazan un poco hacia el centro de distribución de todos los datos"
   ]
  },
  {
   "cell_type": "markdown",
   "metadata": {},
   "source": [
    "2.5 En una arquitectura SOM, a qué se le llama vecinos cercanos?"
   ]
  },
  {
   "cell_type": "markdown",
   "metadata": {},
   "source": [
    "R/: Se le llama vecinos cercanos a los datos que están a una distancia menor o igual al learning radius y de acuerdo a esto se define la distribución de los centroides porque a mayor radio, más datos afectan el centroide\n"
   ]
  },
  {
   "cell_type": "code",
   "execution_count": 26,
   "metadata": {},
   "outputs": [
    {
     "ename": "SyntaxError",
     "evalue": "invalid syntax (<ipython-input-26-0cff74814147>, line 1)",
     "output_type": "error",
     "traceback": [
      "\u001b[1;36m  File \u001b[1;32m\"<ipython-input-26-0cff74814147>\"\u001b[1;36m, line \u001b[1;32m1\u001b[0m\n\u001b[1;33m    Se le llama vecinos cercanos a los datos que están a una distancia menor o igual al learning radius y de acuerdo a esto se define la distribución de los centroides porque a mayor radio, más datos afectan el centroide\u001b[0m\n\u001b[1;37m        ^\u001b[0m\n\u001b[1;31mSyntaxError\u001b[0m\u001b[1;31m:\u001b[0m invalid syntax\n"
     ]
    }
   ],
   "source": [
    "Se le llama vecinos cercanos a los datos que están a una distancia menor o igual al learning radius y de acuerdo a esto se define la distribución de los centroides porque a mayor radio, más datos afectan el centroide\n"
   ]
  }
 ],
 "metadata": {
  "kernelspec": {
   "display_name": "Python 2",
   "language": "python",
   "name": "python2"
  },
  "language_info": {
   "codemirror_mode": {
    "name": "ipython",
    "version": 2
   },
   "file_extension": ".py",
   "mimetype": "text/x-python",
   "name": "python",
   "nbconvert_exporter": "python",
   "pygments_lexer": "ipython2",
   "version": "2.7.15rc1"
  }
 },
 "nbformat": 4,
 "nbformat_minor": 2
}
